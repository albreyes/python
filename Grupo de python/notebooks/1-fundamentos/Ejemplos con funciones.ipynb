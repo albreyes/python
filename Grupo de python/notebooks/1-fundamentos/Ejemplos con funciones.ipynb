{
 "cells": [
  {
   "cell_type": "markdown",
   "metadata": {
    "id": "w4GrZ58rZM8I"
   },
   "source": [
    "# Ejemplos con funciones"
   ]
  },
  {
   "cell_type": "markdown",
   "metadata": {
    "id": "dlOhGIJ5aecl"
   },
   "source": [
    "## Ejemplo 1\n",
    "\n",
    "Definir una función ***imprimir_doble*** que tome un argumento $x$ y lo imprima dos veces, con un espacio entre una palabra y la siguiente. Por ejemplo, al evaluarla debe retornar:\n",
    "\n",
    "imprimir_doble(5)\n",
    "5 5\n",
    "\n",
    "imprimir_doble('hola')\n",
    "hola hola\n",
    "\n",
    "imprimir_doble([3,9,4])\n",
    "[3,9,4] [3,9,4]\n"
   ]
  },
  {
   "cell_type": "code",
   "execution_count": 13,
   "metadata": {
    "cellView": "form",
    "executionInfo": {
     "elapsed": 244,
     "status": "ok",
     "timestamp": 1634764588890,
     "user": {
      "displayName": "Alberto Reyes",
      "photoUrl": "https://lh3.googleusercontent.com/a-/AOh14Ghtp9VBpYrt3_6wJsB0V_dxFPM5xchw8QmtdQFn=s64",
      "userId": "05370953615095466553"
     },
     "user_tz": 300
    },
    "id": "g02vjb8ZjpZO"
   },
   "outputs": [],
   "source": [
    "#@title\n",
    "#@Función doble\n",
    "def doble(d):\n",
    "  print(d,d)"
   ]
  },
  {
   "cell_type": "code",
   "execution_count": 14,
   "metadata": {
    "colab": {
     "base_uri": "https://localhost:8080/"
    },
    "executionInfo": {
     "elapsed": 192,
     "status": "ok",
     "timestamp": 1634764590564,
     "user": {
      "displayName": "Alberto Reyes",
      "photoUrl": "https://lh3.googleusercontent.com/a-/AOh14Ghtp9VBpYrt3_6wJsB0V_dxFPM5xchw8QmtdQFn=s64",
      "userId": "05370953615095466553"
     },
     "user_tz": 300
    },
    "id": "VuvVHCEPj4NW",
    "outputId": "0014da7d-cae3-488f-ba8b-e91b8852d6ba"
   },
   "outputs": [
    {
     "name": "stdout",
     "output_type": "stream",
     "text": [
      "hola hola\n"
     ]
    }
   ],
   "source": [
    "doble('hola')"
   ]
  },
  {
   "cell_type": "code",
   "execution_count": 15,
   "metadata": {
    "colab": {
     "base_uri": "https://localhost:8080/"
    },
    "executionInfo": {
     "elapsed": 184,
     "status": "ok",
     "timestamp": 1634764623484,
     "user": {
      "displayName": "Alberto Reyes",
      "photoUrl": "https://lh3.googleusercontent.com/a-/AOh14Ghtp9VBpYrt3_6wJsB0V_dxFPM5xchw8QmtdQFn=s64",
      "userId": "05370953615095466553"
     },
     "user_tz": 300
    },
    "id": "7rP68E8LkGDN",
    "outputId": "818cf2d7-2d23-4f24-961e-f53feace3119"
   },
   "outputs": [
    {
     "name": "stdout",
     "output_type": "stream",
     "text": [
      "1 1\n"
     ]
    }
   ],
   "source": [
    "doble(1)"
   ]
  },
  {
   "cell_type": "code",
   "execution_count": 16,
   "metadata": {
    "colab": {
     "base_uri": "https://localhost:8080/"
    },
    "executionInfo": {
     "elapsed": 174,
     "status": "ok",
     "timestamp": 1634764642316,
     "user": {
      "displayName": "Alberto Reyes",
      "photoUrl": "https://lh3.googleusercontent.com/a-/AOh14Ghtp9VBpYrt3_6wJsB0V_dxFPM5xchw8QmtdQFn=s64",
      "userId": "05370953615095466553"
     },
     "user_tz": 300
    },
    "id": "kw5ljC6rkKAW",
    "outputId": "00b9dcb8-2d50-4b91-acee-99433b99a2f6"
   },
   "outputs": [
    {
     "name": "stdout",
     "output_type": "stream",
     "text": [
      "[3, 4] [3, 4]\n"
     ]
    }
   ],
   "source": [
    "doble([3,4])"
   ]
  },
  {
   "cell_type": "markdown",
   "metadata": {
    "id": "CNxLE-y7k46P"
   },
   "source": [
    "## Ejemplo 2\n",
    "\n",
    "Definir una función $distancia$ que tome dos argumentos $x,y$, que sean listas de dos elementos, y calcule la distancia entre ellos usando el teorema de Pitágoras:\n",
    "$$\\sqrt{\\left(x_{1}-y_{1}\\right)^{2}+\\left(x_{2}-y_{2}\\right)^{2}}$$\n",
    "\n",
    "Pueden comprobar que la función está haciendo su trabajo correctamente si retorna estos valores:\n",
    "\n",
    "distancia([0,0], [1,1])\n",
    "1.4142135623730951\n",
    "\n",
    "distancia([1,5], [2,2])\n",
    "3.1622776601683795\n"
   ]
  },
  {
   "cell_type": "code",
   "execution_count": 17,
   "metadata": {
    "cellView": "form",
    "executionInfo": {
     "elapsed": 182,
     "status": "ok",
     "timestamp": 1634764439487,
     "user": {
      "displayName": "Alberto Reyes",
      "photoUrl": "https://lh3.googleusercontent.com/a-/AOh14Ghtp9VBpYrt3_6wJsB0V_dxFPM5xchw8QmtdQFn=s64",
      "userId": "05370953615095466553"
     },
     "user_tz": 300
    },
    "id": "xHGTlyoObBhd"
   },
   "outputs": [],
   "source": [
    "#@title\n",
    "#@Función distancia\n",
    "def distancia(x,y):\n",
    "  d=pow(((x[0]-y[0])**2+(x[1]-y[1])**2),0.5)\n",
    "  print(\"La distancia entre \",x,\"y\",y,\" es:\",d)\n",
    "  return d"
   ]
  },
  {
   "cell_type": "code",
   "execution_count": 18,
   "metadata": {
    "colab": {
     "base_uri": "https://localhost:8080/"
    },
    "executionInfo": {
     "elapsed": 209,
     "status": "ok",
     "timestamp": 1634765503844,
     "user": {
      "displayName": "Alberto Reyes",
      "photoUrl": "https://lh3.googleusercontent.com/a-/AOh14Ghtp9VBpYrt3_6wJsB0V_dxFPM5xchw8QmtdQFn=s64",
      "userId": "05370953615095466553"
     },
     "user_tz": 300
    },
    "id": "VLOpxSt7hJcC",
    "outputId": "9748fb40-8a18-4e7c-c1e7-b451c452872b"
   },
   "outputs": [
    {
     "name": "stdout",
     "output_type": "stream",
     "text": [
      "La distancia entre  [1, 5] y [2, 2]  es: 3.1622776601683795\n"
     ]
    },
    {
     "data": {
      "text/plain": [
       "3.1622776601683795"
      ]
     },
     "execution_count": 18,
     "metadata": {},
     "output_type": "execute_result"
    }
   ],
   "source": [
    "distancia([1,5], [2,2])"
   ]
  },
  {
   "cell_type": "markdown",
   "metadata": {
    "id": "gU6Z8ePgp5HH"
   },
   "source": [
    "## Ejemplo 3\n",
    "\n",
    "Definir una función $digitos$ que tome un numero $x$ y retorne los dígitos de que se compone, como cadenas. Por ejemplo, digitos debe retornar:\n",
    "\n",
    "digitos(1234)\n",
    "['1', '2', '3', '4']\n",
    "\n",
    "digitos(99861)\n",
    "['9', '9', '8', '6', '1']\n"
   ]
  },
  {
   "cell_type": "code",
   "execution_count": 19,
   "metadata": {
    "cellView": "form",
    "executionInfo": {
     "elapsed": 266,
     "status": "ok",
     "timestamp": 1634766111257,
     "user": {
      "displayName": "Alberto Reyes",
      "photoUrl": "https://lh3.googleusercontent.com/a-/AOh14Ghtp9VBpYrt3_6wJsB0V_dxFPM5xchw8QmtdQFn=s64",
      "userId": "05370953615095466553"
     },
     "user_tz": 300
    },
    "id": "5c3xJVA7jSJm"
   },
   "outputs": [],
   "source": [
    "#@title\n",
    "def digitos(x):\n",
    "  x_str=str(x)\n",
    "  lista=list(x_str)\n",
    "  print(lista)"
   ]
  },
  {
   "cell_type": "code",
   "execution_count": 20,
   "metadata": {
    "colab": {
     "base_uri": "https://localhost:8080/"
    },
    "executionInfo": {
     "elapsed": 7,
     "status": "ok",
     "timestamp": 1634766112206,
     "user": {
      "displayName": "Alberto Reyes",
      "photoUrl": "https://lh3.googleusercontent.com/a-/AOh14Ghtp9VBpYrt3_6wJsB0V_dxFPM5xchw8QmtdQFn=s64",
      "userId": "05370953615095466553"
     },
     "user_tz": 300
    },
    "id": "ddw-fTjknheW",
    "outputId": "c318d038-2714-460e-f05c-2de1c032c7cb"
   },
   "outputs": [
    {
     "name": "stdout",
     "output_type": "stream",
     "text": [
      "['2', '3', '4', '5', '6']\n"
     ]
    }
   ],
   "source": [
    "digitos(23456)"
   ]
  },
  {
   "cell_type": "markdown",
   "metadata": {
    "id": "knKllf2arjeQ"
   },
   "source": [
    "##Ejercicio\n",
    "\n",
    "\n",
    "1.   Buscar información sobre los métodos asociados a la clase math y conversiones entre tipos de datos. Citar algunos ejemplos aquí.\n",
    "2.   Hacer ejemplos de funciones usando lo aprendido hasta el momento\n"
   ]
  }
 ],
 "metadata": {
  "colab": {
   "authorship_tag": "ABX9TyOCgcBfkLBuYfDCQ3iXScVZ",
   "name": "Funciones.ipynb",
   "provenance": []
  },
  "kernelspec": {
   "display_name": "Python 3 (ipykernel)",
   "language": "python",
   "name": "python3"
  },
  "language_info": {
   "codemirror_mode": {
    "name": "ipython",
    "version": 3
   },
   "file_extension": ".py",
   "mimetype": "text/x-python",
   "name": "python",
   "nbconvert_exporter": "python",
   "pygments_lexer": "ipython3",
   "version": "3.8.12"
  }
 },
 "nbformat": 4,
 "nbformat_minor": 1
}
