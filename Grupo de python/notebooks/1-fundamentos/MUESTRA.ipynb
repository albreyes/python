{
 "cells": [
  {
   "cell_type": "markdown",
   "metadata": {
    "id": "rsOPA53lwQzi"
   },
   "source": [
    "Esto se escribe con markdown!"
   ]
  },
  {
   "cell_type": "markdown",
   "metadata": {
    "id": "Sy0E1QxywQzj"
   },
   "source": [
    "# Esto es un título"
   ]
  },
  {
   "cell_type": "markdown",
   "metadata": {},
   "source": [
    "MULTIPLES COMENTARIOS"
   ]
  },
  {
   "cell_type": "code",
   "execution_count": 61,
   "metadata": {},
   "outputs": [
    {
     "name": "stdout",
     "output_type": "stream",
     "text": [
      "Comentarios en varias lineas\n",
      "Otra forma de escribir Comentarios en varias lineas\n"
     ]
    }
   ],
   "source": [
    "# Este es un comentario\n",
    "# Escrito \n",
    "# En mas de una linea\n",
    "print(\"Comentarios en varias lineas\")\n",
    "\n",
    "\"\"\"\n",
    "This is a comment\n",
    "written in\n",
    "more than just one line\n",
    "\"\"\"\n",
    "print(\"Otra forma de escribir Comentarios en varias lineas\")"
   ]
  },
  {
   "cell_type": "markdown",
   "metadata": {
    "id": "mIBUeGz4wQzb"
   },
   "source": [
    "## Variables y tipos"
   ]
  },
  {
   "cell_type": "code",
   "execution_count": 1,
   "metadata": {
    "executionInfo": {
     "elapsed": 4,
     "status": "ok",
     "timestamp": 1651092822516,
     "user": {
      "displayName": "MA CV",
      "userId": "15376185436575138427"
     },
     "user_tz": 300
    },
    "id": "zB1A_Z4QwQzd"
   },
   "outputs": [],
   "source": [
    "x=5"
   ]
  },
  {
   "cell_type": "code",
   "execution_count": 2,
   "metadata": {
    "colab": {
     "base_uri": "https://localhost:8080/"
    },
    "executionInfo": {
     "elapsed": 230,
     "status": "ok",
     "timestamp": 1651092822743,
     "user": {
      "displayName": "MA CV",
      "userId": "15376185436575138427"
     },
     "user_tz": 300
    },
    "id": "IGN-ABo7wQze",
    "outputId": "a31e8936-06c5-400f-effc-b6de6f99aa5b"
   },
   "outputs": [
    {
     "data": {
      "text/plain": [
       "5"
      ]
     },
     "execution_count": 2,
     "metadata": {},
     "output_type": "execute_result"
    }
   ],
   "source": [
    "x"
   ]
  },
  {
   "cell_type": "code",
   "execution_count": 3,
   "metadata": {
    "colab": {
     "base_uri": "https://localhost:8080/"
    },
    "executionInfo": {
     "elapsed": 11,
     "status": "ok",
     "timestamp": 1651092822968,
     "user": {
      "displayName": "MA CV",
      "userId": "15376185436575138427"
     },
     "user_tz": 300
    },
    "id": "fSJ7_wljwQzg",
    "outputId": "4ecb2b6a-e9b8-4ee2-b4f7-9d7b9bbc3dd9"
   },
   "outputs": [
    {
     "name": "stdout",
     "output_type": "stream",
     "text": [
      "x vale 5\n",
      "x vale 5\n"
     ]
    }
   ],
   "source": [
    "print('x vale',x)\n",
    "print('x vale '+str(x))"
   ]
  },
  {
   "cell_type": "code",
   "execution_count": 4,
   "metadata": {
    "colab": {
     "base_uri": "https://localhost:8080/"
    },
    "executionInfo": {
     "elapsed": 9,
     "status": "ok",
     "timestamp": 1651092822968,
     "user": {
      "displayName": "MA CV",
      "userId": "15376185436575138427"
     },
     "user_tz": 300
    },
    "id": "YYKe7oThwQzh",
    "outputId": "bad43fbf-859f-4331-99d2-ae1752ebb2d4"
   },
   "outputs": [
    {
     "data": {
      "text/plain": [
       "int"
      ]
     },
     "execution_count": 4,
     "metadata": {},
     "output_type": "execute_result"
    }
   ],
   "source": [
    "type(x)"
   ]
  },
  {
   "cell_type": "code",
   "execution_count": 58,
   "metadata": {},
   "outputs": [
    {
     "data": {
      "text/plain": [
       "bool"
      ]
     },
     "execution_count": 58,
     "metadata": {},
     "output_type": "execute_result"
    }
   ],
   "source": [
    "xalapaEsUnContinente=False\n",
    "type(xalapaEsUnContinente)"
   ]
  },
  {
   "cell_type": "markdown",
   "metadata": {
    "id": "rQeFHqIxwQzp"
   },
   "source": [
    "## Operaciones aritméticas"
   ]
  },
  {
   "cell_type": "markdown",
   "metadata": {},
   "source": [
    "El cuadrado de un número"
   ]
  },
  {
   "cell_type": "code",
   "execution_count": 5,
   "metadata": {
    "executionInfo": {
     "elapsed": 6,
     "status": "ok",
     "timestamp": 1651092823283,
     "user": {
      "displayName": "MA CV",
      "userId": "15376185436575138427"
     },
     "user_tz": 300
    },
    "id": "iYyNRLPawQzq"
   },
   "outputs": [],
   "source": [
    "x=30"
   ]
  },
  {
   "cell_type": "code",
   "execution_count": 6,
   "metadata": {
    "executionInfo": {
     "elapsed": 7,
     "status": "ok",
     "timestamp": 1651092823284,
     "user": {
      "displayName": "MA CV",
      "userId": "15376185436575138427"
     },
     "user_tz": 300
    },
    "id": "eSGVQM_QwQzq"
   },
   "outputs": [],
   "source": [
    "y=x*x"
   ]
  },
  {
   "cell_type": "code",
   "execution_count": 7,
   "metadata": {
    "colab": {
     "base_uri": "https://localhost:8080/"
    },
    "executionInfo": {
     "elapsed": 17,
     "status": "ok",
     "timestamp": 1651092823603,
     "user": {
      "displayName": "MA CV",
      "userId": "15376185436575138427"
     },
     "user_tz": 300
    },
    "id": "KPMbu0-gwQzq",
    "outputId": "ea87b399-ce29-4d16-e8f2-539bcd33e703"
   },
   "outputs": [
    {
     "name": "stdout",
     "output_type": "stream",
     "text": [
      "El cuadrado de 30 es: 900\n"
     ]
    }
   ],
   "source": [
    "print(\"El cuadrado de\",x,\"es:\",y)"
   ]
  },
  {
   "cell_type": "markdown",
   "metadata": {
    "id": "VDpfd4BxwQzo"
   },
   "source": [
    "Area de un circulo"
   ]
  },
  {
   "cell_type": "code",
   "execution_count": 8,
   "metadata": {
    "executionInfo": {
     "elapsed": 11,
     "status": "ok",
     "timestamp": 1651092823283,
     "user": {
      "displayName": "MA CV",
      "userId": "15376185436575138427"
     },
     "user_tz": 300
    },
    "id": "1n470Q8RwQzo"
   },
   "outputs": [],
   "source": [
    "radio=3\n",
    "areaCirculo=3.141592*radio*radio"
   ]
  },
  {
   "cell_type": "code",
   "execution_count": 9,
   "metadata": {
    "colab": {
     "base_uri": "https://localhost:8080/"
    },
    "executionInfo": {
     "elapsed": 9,
     "status": "ok",
     "timestamp": 1651092823283,
     "user": {
      "displayName": "MA CV",
      "userId": "15376185436575138427"
     },
     "user_tz": 300
    },
    "id": "m_vpGP-cwQzp",
    "outputId": "c14a7572-005d-4dde-e84b-5223f77f15b9"
   },
   "outputs": [
    {
     "name": "stdout",
     "output_type": "stream",
     "text": [
      "El area del circulo de radio 3 es: 28.274328000000004\n"
     ]
    }
   ],
   "source": [
    "print(\"El area del circulo de radio\",radio,\"es:\",areaCirculo)"
   ]
  },
  {
   "cell_type": "code",
   "execution_count": 10,
   "metadata": {
    "executionInfo": {
     "elapsed": 16,
     "status": "ok",
     "timestamp": 1651092823603,
     "user": {
      "displayName": "MA CV",
      "userId": "15376185436575138427"
     },
     "user_tz": 300
    },
    "id": "wIJl4TkvwQzq"
   },
   "outputs": [],
   "source": [
    "from math import pi"
   ]
  },
  {
   "cell_type": "code",
   "execution_count": 11,
   "metadata": {
    "colab": {
     "base_uri": "https://localhost:8080/"
    },
    "executionInfo": {
     "elapsed": 17,
     "status": "ok",
     "timestamp": 1651092823604,
     "user": {
      "displayName": "MA CV",
      "userId": "15376185436575138427"
     },
     "user_tz": 300
    },
    "id": "KHL1BDJdwQzr",
    "outputId": "71e9e7c0-0b58-4294-c79f-67c123149623"
   },
   "outputs": [
    {
     "data": {
      "text/plain": [
       "3.141592653589793"
      ]
     },
     "execution_count": 11,
     "metadata": {},
     "output_type": "execute_result"
    }
   ],
   "source": [
    "pi"
   ]
  },
  {
   "cell_type": "markdown",
   "metadata": {
    "id": "8LpMNhthwQz4"
   },
   "source": [
    "## Operadores"
   ]
  },
  {
   "cell_type": "code",
   "execution_count": 49,
   "metadata": {
    "colab": {
     "base_uri": "https://localhost:8080/"
    },
    "executionInfo": {
     "elapsed": 10,
     "status": "ok",
     "timestamp": 1651092823838,
     "user": {
      "displayName": "MA CV",
      "userId": "15376185436575138427"
     },
     "user_tz": 300
    },
    "id": "TmuK1MjLwQz4",
    "outputId": "39b883ea-c4c6-4f69-b990-857af5fce258"
   },
   "outputs": [
    {
     "data": {
      "text/plain": [
       "False"
      ]
     },
     "execution_count": 49,
     "metadata": {},
     "output_type": "execute_result"
    }
   ],
   "source": [
    "20==30"
   ]
  },
  {
   "cell_type": "code",
   "execution_count": 50,
   "metadata": {
    "colab": {
     "base_uri": "https://localhost:8080/"
    },
    "executionInfo": {
     "elapsed": 8,
     "status": "ok",
     "timestamp": 1651092824062,
     "user": {
      "displayName": "MA CV",
      "userId": "15376185436575138427"
     },
     "user_tz": 300
    },
    "id": "RIdFNCW9wQz4",
    "outputId": "d65c807c-abdb-4c5b-b301-efb9248fca45"
   },
   "outputs": [
    {
     "data": {
      "text/plain": [
       "True"
      ]
     },
     "execution_count": 50,
     "metadata": {},
     "output_type": "execute_result"
    }
   ],
   "source": [
    "4>3"
   ]
  },
  {
   "cell_type": "markdown",
   "metadata": {
    "id": "lAFDWzEBwQzk"
   },
   "source": [
    "## Operadores lógicos"
   ]
  },
  {
   "cell_type": "code",
   "execution_count": 12,
   "metadata": {
    "executionInfo": {
     "elapsed": 8,
     "status": "ok",
     "timestamp": 1651092822969,
     "user": {
      "displayName": "MA CV",
      "userId": "15376185436575138427"
     },
     "user_tz": 300
    },
    "id": "bHfMfvUzwQzl"
   },
   "outputs": [],
   "source": [
    "xalapaEsUnContinente=False\n",
    "losPajarosNoVuelan=False"
   ]
  },
  {
   "cell_type": "code",
   "execution_count": 13,
   "metadata": {
    "colab": {
     "base_uri": "https://localhost:8080/"
    },
    "executionInfo": {
     "elapsed": 7,
     "status": "ok",
     "timestamp": 1651092822969,
     "user": {
      "displayName": "MA CV",
      "userId": "15376185436575138427"
     },
     "user_tz": 300
    },
    "id": "h00T0e4qwQzm",
    "outputId": "165f3be3-ebee-4d63-ea00-c7489fcb6d63"
   },
   "outputs": [
    {
     "data": {
      "text/plain": [
       "False"
      ]
     },
     "execution_count": 13,
     "metadata": {},
     "output_type": "execute_result"
    }
   ],
   "source": [
    "xalapaEsUnContinente and losPajarosNoVuelan"
   ]
  },
  {
   "cell_type": "code",
   "execution_count": 59,
   "metadata": {},
   "outputs": [
    {
     "data": {
      "text/plain": [
       "False"
      ]
     },
     "execution_count": 59,
     "metadata": {},
     "output_type": "execute_result"
    }
   ],
   "source": [
    "xalapaEsUnContinente or losPajarosNoVuelan"
   ]
  },
  {
   "cell_type": "code",
   "execution_count": 14,
   "metadata": {
    "executionInfo": {
     "elapsed": 318,
     "status": "ok",
     "timestamp": 1651092823282,
     "user": {
      "displayName": "MA CV",
      "userId": "15376185436575138427"
     },
     "user_tz": 300
    },
    "id": "8TXt5olNwQzn"
   },
   "outputs": [],
   "source": [
    "xalapaEsUnaCiudad=True\n",
    "losPinguinosNoVuelan=True"
   ]
  },
  {
   "cell_type": "code",
   "execution_count": 15,
   "metadata": {
    "colab": {
     "base_uri": "https://localhost:8080/"
    },
    "executionInfo": {
     "elapsed": 190,
     "status": "ok",
     "timestamp": 1651092924714,
     "user": {
      "displayName": "MA CV",
      "userId": "15376185436575138427"
     },
     "user_tz": 300
    },
    "id": "30rOPH49wQzn",
    "outputId": "5e790eef-5db2-45c2-b6f0-93b0500746dc"
   },
   "outputs": [
    {
     "data": {
      "text/plain": [
       "True"
      ]
     },
     "execution_count": 15,
     "metadata": {},
     "output_type": "execute_result"
    }
   ],
   "source": [
    "xalapaEsUnaCiudad and losPinguinosNoVuelan"
   ]
  },
  {
   "cell_type": "code",
   "execution_count": 60,
   "metadata": {},
   "outputs": [
    {
     "data": {
      "text/plain": [
       "True"
      ]
     },
     "execution_count": 60,
     "metadata": {},
     "output_type": "execute_result"
    }
   ],
   "source": [
    "xalapaEsUnaCiudad or losPinguinosNoVuelan"
   ]
  },
  {
   "cell_type": "markdown",
   "metadata": {
    "id": "Ig-VdTGEwQzs"
   },
   "source": [
    "## Listas y operaciones con Listas"
   ]
  },
  {
   "cell_type": "code",
   "execution_count": 17,
   "metadata": {
    "executionInfo": {
     "elapsed": 15,
     "status": "ok",
     "timestamp": 1651092823604,
     "user": {
      "displayName": "MA CV",
      "userId": "15376185436575138427"
     },
     "user_tz": 300
    },
    "id": "8Iw2MDVPwQzs"
   },
   "outputs": [],
   "source": [
    "lista_numeros=[1,2,3,4,5,6,7]"
   ]
  },
  {
   "cell_type": "code",
   "execution_count": 18,
   "metadata": {
    "colab": {
     "base_uri": "https://localhost:8080/"
    },
    "executionInfo": {
     "elapsed": 15,
     "status": "ok",
     "timestamp": 1651092823604,
     "user": {
      "displayName": "MA CV",
      "userId": "15376185436575138427"
     },
     "user_tz": 300
    },
    "id": "g_oOLVrOwQzs",
    "outputId": "fa9f3209-d1dd-428a-fb95-9ae323d53b6b"
   },
   "outputs": [
    {
     "data": {
      "text/plain": [
       "3"
      ]
     },
     "execution_count": 18,
     "metadata": {},
     "output_type": "execute_result"
    }
   ],
   "source": [
    "lista_numeros.index(4)"
   ]
  },
  {
   "cell_type": "code",
   "execution_count": 19,
   "metadata": {
    "executionInfo": {
     "elapsed": 14,
     "status": "ok",
     "timestamp": 1651092823605,
     "user": {
      "displayName": "MA CV",
      "userId": "15376185436575138427"
     },
     "user_tz": 300
    },
    "id": "oEam6WjUwQzt"
   },
   "outputs": [],
   "source": [
    "lista_caracteres=['estamos', 'aprendiendo', 'python', 'bonito']"
   ]
  },
  {
   "cell_type": "code",
   "execution_count": 20,
   "metadata": {
    "executionInfo": {
     "elapsed": 13,
     "status": "ok",
     "timestamp": 1651092823605,
     "user": {
      "displayName": "MA CV",
      "userId": "15376185436575138427"
     },
     "user_tz": 300
    },
    "id": "DxhU2hJJwQzt"
   },
   "outputs": [],
   "source": [
    "lista_caracteres.append('o feo')"
   ]
  },
  {
   "cell_type": "code",
   "execution_count": 21,
   "metadata": {
    "colab": {
     "base_uri": "https://localhost:8080/"
    },
    "executionInfo": {
     "elapsed": 13,
     "status": "ok",
     "timestamp": 1651092823605,
     "user": {
      "displayName": "MA CV",
      "userId": "15376185436575138427"
     },
     "user_tz": 300
    },
    "id": "8edx1ULlwQzt",
    "outputId": "fa57b15b-d5cc-49ed-a580-6d417d273184"
   },
   "outputs": [
    {
     "data": {
      "text/plain": [
       "['estamos', 'aprendiendo', 'python', 'bonito', 'o feo']"
      ]
     },
     "execution_count": 21,
     "metadata": {},
     "output_type": "execute_result"
    }
   ],
   "source": [
    "lista_caracteres"
   ]
  },
  {
   "cell_type": "code",
   "execution_count": 22,
   "metadata": {
    "executionInfo": {
     "elapsed": 12,
     "status": "ok",
     "timestamp": 1651092823605,
     "user": {
      "displayName": "MA CV",
      "userId": "15376185436575138427"
     },
     "user_tz": 300
    },
    "id": "qF5HYj2pwQzu"
   },
   "outputs": [],
   "source": [
    "lista_caracteres.remove('o feo')"
   ]
  },
  {
   "cell_type": "code",
   "execution_count": 23,
   "metadata": {
    "colab": {
     "base_uri": "https://localhost:8080/"
    },
    "executionInfo": {
     "elapsed": 13,
     "status": "ok",
     "timestamp": 1651092823606,
     "user": {
      "displayName": "MA CV",
      "userId": "15376185436575138427"
     },
     "user_tz": 300
    },
    "id": "URlgG2KvwQzu",
    "outputId": "a9bc60d7-198f-4896-bc84-68eb236f7db1"
   },
   "outputs": [
    {
     "data": {
      "text/plain": [
       "['estamos', 'aprendiendo', 'python', 'bonito']"
      ]
     },
     "execution_count": 23,
     "metadata": {},
     "output_type": "execute_result"
    }
   ],
   "source": [
    "lista_caracteres"
   ]
  },
  {
   "cell_type": "code",
   "execution_count": 24,
   "metadata": {
    "executionInfo": {
     "elapsed": 12,
     "status": "ok",
     "timestamp": 1651092823606,
     "user": {
      "displayName": "MA CV",
      "userId": "15376185436575138427"
     },
     "user_tz": 300
    },
    "id": "vnuRn6uzwQzu"
   },
   "outputs": [],
   "source": [
    "lista_caracteres.reverse()"
   ]
  },
  {
   "cell_type": "code",
   "execution_count": 25,
   "metadata": {
    "colab": {
     "base_uri": "https://localhost:8080/"
    },
    "executionInfo": {
     "elapsed": 13,
     "status": "ok",
     "timestamp": 1651092823607,
     "user": {
      "displayName": "MA CV",
      "userId": "15376185436575138427"
     },
     "user_tz": 300
    },
    "id": "LaRadI7gwQzv",
    "outputId": "b91fd544-2631-41ae-f050-1311dd64bec4"
   },
   "outputs": [
    {
     "data": {
      "text/plain": [
       "['bonito', 'python', 'aprendiendo', 'estamos']"
      ]
     },
     "execution_count": 25,
     "metadata": {},
     "output_type": "execute_result"
    }
   ],
   "source": [
    "lista_caracteres"
   ]
  },
  {
   "cell_type": "code",
   "execution_count": 26,
   "metadata": {
    "executionInfo": {
     "elapsed": 12,
     "status": "ok",
     "timestamp": 1651092823607,
     "user": {
      "displayName": "MA CV",
      "userId": "15376185436575138427"
     },
     "user_tz": 300
    },
    "id": "oErRVCRywQzv"
   },
   "outputs": [],
   "source": [
    "lista_caracteres.insert(3,'refeo')"
   ]
  },
  {
   "cell_type": "markdown",
   "metadata": {
    "id": "tuC4JBjYwQz5"
   },
   "source": [
    "Se va a repetir/iterar hasta que se halla cumplido una secuencia específica.\n",
    "\n",
    "Estructura en python:\n",
    "\n",
    "for i in range(minimo, maximo):\n",
    "    print(i)\n",
    "\n",
    "en donde:\n",
    "    i - es el iterador o la variable que va a tomar los valores que estén dentro de **range(0, 20)**\n",
    "    range(minimo, maximo) - función de python que crea una lista de números enteros que va desde **minimo** hasta **maximo**\n",
    "    \n",
    "    \n",
    "**NOTA:** range(minimo, maximo) puede ser sustituido por una lista que contenga diferentes tipos de datos c"
   ]
  },
  {
   "cell_type": "code",
   "execution_count": 51,
   "metadata": {
    "colab": {
     "base_uri": "https://localhost:8080/"
    },
    "executionInfo": {
     "elapsed": 7,
     "status": "ok",
     "timestamp": 1651092824062,
     "user": {
      "displayName": "MA CV",
      "userId": "15376185436575138427"
     },
     "user_tz": 300
    },
    "id": "lKmO6DEswQz5",
    "outputId": "655abee3-8f45-4751-c05a-f1a016833685"
   },
   "outputs": [
    {
     "name": "stdout",
     "output_type": "stream",
     "text": [
      "1\n",
      "1\n",
      "1\n"
     ]
    }
   ],
   "source": [
    "for i in range(0,3):\n",
    "    print(1)"
   ]
  },
  {
   "cell_type": "code",
   "execution_count": 52,
   "metadata": {
    "executionInfo": {
     "elapsed": 6,
     "status": "ok",
     "timestamp": 1651092824062,
     "user": {
      "displayName": "MA CV",
      "userId": "15376185436575138427"
     },
     "user_tz": 300
    },
    "id": "mJ6NCHVxwQz5"
   },
   "outputs": [],
   "source": [
    "lista=[1,3,6,7,8]"
   ]
  },
  {
   "cell_type": "code",
   "execution_count": 53,
   "metadata": {
    "colab": {
     "base_uri": "https://localhost:8080/"
    },
    "executionInfo": {
     "elapsed": 7,
     "status": "ok",
     "timestamp": 1651092824063,
     "user": {
      "displayName": "MA CV",
      "userId": "15376185436575138427"
     },
     "user_tz": 300
    },
    "id": "YRc44QJ6wQz5",
    "outputId": "a6c98865-55cd-4640-dcbc-d98837551556"
   },
   "outputs": [
    {
     "name": "stdout",
     "output_type": "stream",
     "text": [
      "1\n",
      "3\n",
      "6\n",
      "7\n",
      "8\n"
     ]
    }
   ],
   "source": [
    "for elemento in lista:\n",
    "    print(elemento)"
   ]
  },
  {
   "cell_type": "code",
   "execution_count": 54,
   "metadata": {
    "executionInfo": {
     "elapsed": 6,
     "status": "ok",
     "timestamp": 1651092824063,
     "user": {
      "displayName": "MA CV",
      "userId": "15376185436575138427"
     },
     "user_tz": 300
    },
    "id": "DU0IRFpSwQz6"
   },
   "outputs": [],
   "source": [
    "lista2=range(10,20)"
   ]
  },
  {
   "cell_type": "code",
   "execution_count": 55,
   "metadata": {
    "colab": {
     "base_uri": "https://localhost:8080/"
    },
    "executionInfo": {
     "elapsed": 7,
     "status": "ok",
     "timestamp": 1651092824064,
     "user": {
      "displayName": "MA CV",
      "userId": "15376185436575138427"
     },
     "user_tz": 300
    },
    "id": "OAF0xNnJwQz6",
    "outputId": "7eda55d9-1dd2-4eca-fe07-59ae68892c89"
   },
   "outputs": [
    {
     "data": {
      "text/plain": [
       "[1, 3, 6, 7, 8]"
      ]
     },
     "execution_count": 55,
     "metadata": {},
     "output_type": "execute_result"
    }
   ],
   "source": [
    "lista"
   ]
  },
  {
   "cell_type": "code",
   "execution_count": 56,
   "metadata": {
    "colab": {
     "base_uri": "https://localhost:8080/"
    },
    "executionInfo": {
     "elapsed": 234,
     "status": "ok",
     "timestamp": 1651092824292,
     "user": {
      "displayName": "MA CV",
      "userId": "15376185436575138427"
     },
     "user_tz": 300
    },
    "id": "okVF5Ec4wQz6",
    "outputId": "50ddf269-e766-4444-cbbb-a931fbcbf0e3"
   },
   "outputs": [
    {
     "data": {
      "text/plain": [
       "range(10, 20)"
      ]
     },
     "execution_count": 56,
     "metadata": {},
     "output_type": "execute_result"
    }
   ],
   "source": [
    "lista2"
   ]
  },
  {
   "cell_type": "code",
   "execution_count": 57,
   "metadata": {
    "colab": {
     "base_uri": "https://localhost:8080/"
    },
    "executionInfo": {
     "elapsed": 12,
     "status": "ok",
     "timestamp": 1651092824293,
     "user": {
      "displayName": "MA CV",
      "userId": "15376185436575138427"
     },
     "user_tz": 300
    },
    "id": "J0sFTbECwQz7",
    "outputId": "f0176b5e-9e97-4992-a01a-9ec6c3510113"
   },
   "outputs": [
    {
     "data": {
      "text/plain": [
       "range"
      ]
     },
     "execution_count": 57,
     "metadata": {},
     "output_type": "execute_result"
    }
   ],
   "source": [
    "type(range(10,20))"
   ]
  }
 ],
 "metadata": {
  "colab": {
   "name": "MUESTRA.ipynb",
   "provenance": []
  },
  "kernelspec": {
   "display_name": "Python 3 (ipykernel)",
   "language": "python",
   "name": "python3"
  },
  "language_info": {
   "codemirror_mode": {
    "name": "ipython",
    "version": 3
   },
   "file_extension": ".py",
   "mimetype": "text/x-python",
   "name": "python",
   "nbconvert_exporter": "python",
   "pygments_lexer": "ipython3",
   "version": "3.8.12"
  }
 },
 "nbformat": 4,
 "nbformat_minor": 1
}
