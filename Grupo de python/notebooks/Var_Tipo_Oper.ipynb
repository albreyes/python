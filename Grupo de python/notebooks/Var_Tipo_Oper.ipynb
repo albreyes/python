{
  "nbformat": 4,
  "nbformat_minor": 0,
  "metadata": {
    "colab": {
      "name": "Var_Tipo_Oper.ipynb",
      "provenance": [],
      "collapsed_sections": []
    },
    "kernelspec": {
      "name": "python3",
      "display_name": "Python 3"
    },
    "language_info": {
      "name": "python"
    }
  },
  "cells": [
    {
      "cell_type": "markdown",
      "metadata": {
        "id": "iKeGrdQzkITT"
      },
      "source": [
        "VARIABLES"
      ]
    },
    {
      "cell_type": "code",
      "metadata": {
        "id": "dwfZMrdaV5yu"
      },
      "source": [
        "# Esta celda declara variables\n",
        "x = 5\n",
        "y = \"Hello Wordl\"\n",
        "# A continuacion se escriben las variables\n",
        "print(\"El valor de x es:\", x) # El comentario puede ir al final de la linea\n",
        "print(\"El valor de y es:\", y)\n",
        "\n",
        "# Un comentario no tiene que ser texto que explique el código, también se puede usar para evitar que Python ejecute código:\n",
        "# print(\"El valor de x es:\", x) \n",
        "print(\"El valor de y es:\", y)"
      ],
      "execution_count": null,
      "outputs": []
    },
    {
      "cell_type": "markdown",
      "metadata": {
        "id": "rgsfC-6JjwOy"
      },
      "source": [
        "MULTIPLES COMENTARIOS\n"
      ]
    },
    {
      "cell_type": "code",
      "metadata": {
        "id": "HjMkw9cgkEIE",
        "colab": {
          "base_uri": "https://localhost:8080/"
        },
        "outputId": "13fc9ef6-0e14-4dff-f6ea-38000beed60a"
      },
      "source": [
        "# Este es un comentario\n",
        "# Escrito \n",
        "# En mas de una linea\n",
        "print(\"Comentarios en varias lineas\")\n",
        "\n",
        "\"\"\"\n",
        "This is a comment\n",
        "written in\n",
        "more than just one line\n",
        "\"\"\"\n",
        "print(\"Otra forma de escribir Comentarios en varias lineas\")"
      ],
      "execution_count": null,
      "outputs": [
        {
          "output_type": "stream",
          "text": [
            "Comentarios en varias lineas\n",
            "Otra forma de escribir Comentarios en varias lineas\n"
          ],
          "name": "stdout"
        }
      ]
    },
    {
      "cell_type": "markdown",
      "metadata": {
        "id": "DAwhIaGjmKix"
      },
      "source": [
        "Variables: Las variables son contenedores para almacenar valores de datos.\n",
        "\n",
        "Creando Variables: \n",
        "Python no tiene ningún comando para declarar una variable.\n",
        "Una variable se crea en el momento en que le asigna un valor por primera vez.\n",
        "\n",
        "Las variables no necesitan declararse con ningún tipo en particular, e incluso pueden cambiar de tipo una vez que se han establecido\n"
      ]
    },
    {
      "cell_type": "code",
      "metadata": {
        "id": "P782M2mUagwK"
      },
      "source": [
        "x = 5\n",
        "y = \"John\"\n",
        "print(\"El valor de la variable x es: \" , x)\n",
        "print(\"El valor de la variable y es: \" , y)\n",
        "\n",
        "# Cambiando el tipo de variable\n",
        "x =13   # x es de tipo entero\n",
        "x = \"Sally\" # x ahora es de tipo str\n",
        "print(x)"
      ],
      "execution_count": null,
      "outputs": []
    },
    {
      "cell_type": "markdown",
      "metadata": {
        "id": "j15v_pQp85hZ"
      },
      "source": [
        "**Casting**: Si desea especificar el tipo de datos de una variable, puede hacerlo con conversión (casting).\n",
        "\n",
        "**Obtenga el tipo de dato:** Puede obtener el tipo de datos de una variable con la función type()\n",
        "\n",
        "Las variables de cadena se pueden declarar utilizando comillas simples o dobles\n",
        "\n",
        "Los nombres de las variables distinguen entre mayúsculas y minúsculas."
      ]
    },
    {
      "cell_type": "code",
      "metadata": {
        "id": "q38si_R7p8xP"
      },
      "source": [
        "x = str(3)    # x sera '3'\n",
        "y = int(3)    # y sera be 3\n",
        "z = float(3)  # z sera be 3.0\n",
        "\n",
        "print(\"x = \" ,x)\n",
        "print(\"y = \" ,y)\n",
        "print(\"z = \" ,z)\n",
        "\n",
        "# Obtenga el tipo de daato: Puede obtener el tipo de datos de una variable con la función type().\n",
        "print(type(x))\n",
        "print(type(y))\n",
        "print(type(z))\n",
        "\n",
        "# Las variables de cadena se pueden declarar utilizando comillas simples o dobles:\n",
        "x = \"John\"\n",
        "print(x)\n",
        "x = 'John'\n",
        "print(x)\n",
        "\n",
        "# Los nombres de las variables distinguen entre mayúsculas y minúsculas.\n",
        "a = 4\n",
        "A = \"Sally\"\n",
        "\n",
        "print(\"a = \" ,a)\n",
        "print(\"A = \" ,A)"
      ],
      "execution_count": null,
      "outputs": []
    },
    {
      "cell_type": "markdown",
      "metadata": {
        "id": "LPHvR5_DuIwj"
      },
      "source": [
        "**Nombres de variables:** Una variable puede tener un nombre corto (como x e y) o un nombre más descriptivo (edad, nombre_coche, volumen_total). Reglas para variables de Python:\n",
        "\n",
        "El nombre de una variable debe comenzar con una letra o el carácter de subrayado\n",
        "• El nombre de una variable no puede comenzar con un número\n",
        "• El nombre de una variable solo puede contener caracteres alfanuméricos y guiones bajos (A-z, 0-9 y _)\n",
        "• Los nombres de las variables distinguen entre mayúsculas y minúsculas (edad, Edad y EDAD son tres variables diferentes)"
      ]
    },
    {
      "cell_type": "code",
      "metadata": {
        "id": "ZGf8XPTfuoSb"
      },
      "source": [
        "myvar = \"John\"\n",
        "my_var = \"John\"\n",
        "_my_var = \"John\"\n",
        "myVar = \"John\"\n",
        "MYVAR = \"John\"\n",
        "myvar2 = \"John\"\n",
        "\n",
        "print(myvar)\n",
        "print(my_var)\n",
        "print(_my_var)\n",
        "print(myVar)\n",
        "print(MYVAR)\n",
        "print(myvar2)\n",
        "\n",
        "# En esta casi se producira un error\n",
        "#2myvar = \"John\"\n",
        "#my-var = \"John\"\n",
        "#my var = \"John\"\n"
      ],
      "execution_count": null,
      "outputs": []
    },
    {
      "cell_type": "markdown",
      "metadata": {
        "id": "Drwub5xOw0jr"
      },
      "source": [
        "**Muchos valores a múltiples variables**: Python le permite asignar valores a múltiples variables en una línea:"
      ]
    },
    {
      "cell_type": "code",
      "metadata": {
        "id": "vTlmxfJmxEGp"
      },
      "source": [
        "x, y, z = \"Orange\", \"Banana\", \"Cherry\"\n",
        "\n",
        "print(x)\n",
        "print(y)\n",
        "print(z)\n",
        "\n",
        "# Y puede asignar el mismo valor a múltiples variables en una línea:\n",
        "x = y = z = \"Orange\"\n",
        "\n",
        "print(x)\n",
        "print(y)\n",
        "print(z)"
      ],
      "execution_count": null,
      "outputs": []
    },
    {
      "cell_type": "markdown",
      "metadata": {
        "id": "PuWGvialyIsu"
      },
      "source": [
        "**Variables de salida**: La declaración de print de Python se usa a menudo para generar variables.\n",
        "\n",
        "Para combinar texto y una variable, Python usa el carácter +.\n",
        "\n",
        "También puede usar el carácter + para agregar una variable a otra variable.\n",
        "Para los números, el carácter + funciona como un operador matemático.\n",
        "No se permte combinar una cadena y un número, Python dará un error.\n"
      ]
    },
    {
      "cell_type": "code",
      "metadata": {
        "id": "XjqdXJVtysfB"
      },
      "source": [
        "# Combinacion de texto y una variable\n",
        "x = \"amigable\"\n",
        "print(\"Python es \" + x)\n",
        "\n",
        "# usar el carácter + para agregar una variable a otra variable\n",
        "x = \"Python es \"\n",
        "y = \"amigable\"\n",
        "z = x + y\n",
        "print(z)\n",
        "\n",
        "# Para los números, el carácter + funciona como un operador matemático\n",
        "x = 5\n",
        "y = 10\n",
        "print(x + y)\n",
        "\n",
        "# No se permte combinar una cadena y un número, Python dará un error\n",
        "# x = 5\n",
        "# y = \"John\"\n",
        "# print(x + y)\n"
      ],
      "execution_count": null,
      "outputs": []
    },
    {
      "cell_type": "markdown",
      "metadata": {
        "id": "DPO66un41nRV"
      },
      "source": [
        "**Variables globales**: Las variables que se crean fuera de una función se conocen como variables globales.\n",
        "\n",
        "Todo el mundo puede utilizar las variables globales, tanto dentro como fuera de las funciones.\n",
        "\n",
        "Si crea una variable con el mismo nombre dentro de una función, esta variable será local y solo se puede usar dentro de la función. La variable global con el mismo nombre permanecerá como estaba, global y con el valor original.\n",
        "\n",
        "Para crear una variable global dentro de una función, puede utilizar la palabra clave global."
      ]
    },
    {
      "cell_type": "code",
      "metadata": {
        "id": "Tov9a1bm2BPp"
      },
      "source": [
        "# Variable Blobal\n",
        "x = \"amigable\"\n",
        "\n",
        "def myfunc():\n",
        "  print(\"Python es \" + x)\n",
        "\n",
        "myfunc()\n",
        "\n",
        "# Variable global y variable local con el mismo nombre\n",
        "# x = \"amigable\"\n",
        "\n",
        "def myfunc():\n",
        "  x = \"poderoso\"\n",
        "  print(\"Python es \" + x)\n",
        "\n",
        "myfunc()\n",
        "\n",
        "print(\"Python is \" + x)\n",
        "\n",
        "# Para crear una variable global dentro de una función, puede utilizar la palabra clave global.\n",
        "def myfunc():\n",
        "  global y\n",
        "  y = \"global\"\n",
        "\n",
        "myfunc()\n",
        "\n",
        "print(\"Python es \" + y)"
      ],
      "execution_count": null,
      "outputs": []
    },
    {
      "cell_type": "markdown",
      "metadata": {
        "id": "OexgBD1f4otO"
      },
      "source": [
        "**Tipos de datos de Python ** **texto en negrita**\n",
        "En programación, el tipo de datos es un concepto importante.\n",
        "\n",
        "Las variables pueden almacenar datos de diferentes tipos y diferentes tipos pueden hacer cosas diferentes.\n",
        "\n",
        "Python tiene los siguientes tipos de datos integrados de forma predeterminada, en estas categorías:\n",
        "Tipo de texto: str\n",
        "Tipos numéricos: int, float, complex\n",
        "Tipos de secuencia: list, tuple, range\n",
        "Tipo de diccionario: dict\n",
        "Establecer tipos: set, frozenset\n",
        "Tipo booleano: bool\n",
        "Tipos binarios: bytes, bytearray, memoryview"
      ]
    },
    {
      "cell_type": "code",
      "metadata": {
        "id": "38BDSz6K6Jdn"
      },
      "source": [
        "# Tipo Str\n",
        "\n",
        "x = \"Hello World\"\n",
        "\n",
        "#display x:\n",
        "print(x)\n",
        "\n",
        "#display the data type of x:\n",
        "print(type(x)) \n",
        "\n",
        "# Tipo entero\n",
        "x = 20\n",
        "\n",
        "#display x:\n",
        "print(x)\n",
        "\n",
        "#display the data type of x:\n",
        "print(type(x)) \n",
        "\n",
        "# Tipo Flotante\n",
        "x = 20.5\n",
        "\n",
        "#display x:\n",
        "print(x)\n",
        "\n",
        "#display the data type of x:\n",
        "print(type(x)) \n",
        "\n",
        "# Tipo Complejo\n",
        "x = 1j\n",
        "\n",
        "#display x:\n",
        "print(x)\n",
        "\n",
        "#display the data type of x:\n",
        "print(type(x)) \n",
        "\n",
        "# Tipo List\n",
        "x = [\"apple\", \"banana\", \"cherry\"]\n",
        "\n",
        "#display x:\n",
        "print(x)\n",
        "\n",
        "#display the data type of x:\n",
        "print(type(x)) \n",
        "\n",
        "# Tipo Tuple\n",
        "x = (\"apple\", \"banana\", \"cherry\")\n",
        "\n",
        "#display x:\n",
        "print(x)\n",
        "\n",
        "#display the data type of x:\n",
        "print(type(x)) \n",
        "\n",
        "# Tipo Range\n",
        "x = range(6)\n",
        "\n",
        "#display x:\n",
        "print(x)\n",
        "\n",
        "#display the data type of x:\n",
        "print(type(x)) \n",
        "\n",
        "# Tipo dict\n",
        "x = {\"name\" : \"John\", \"age\" : 36}\n",
        "\n",
        "#display x:\n",
        "print(x)\n",
        "\n",
        "#display the data type of x:\n",
        "print(type(x)) \n",
        "\n",
        "# Tipo Set\n",
        "x = {\"apple\", \"banana\", \"cherry\"}\n",
        "\n",
        "#display x:\n",
        "print(x)\n",
        "\n",
        "#display the data type of x:\n",
        "print(type(x)) \n",
        "\n",
        "# Tipo Frozenset\n",
        "x = frozenset({\"apple\", \"banana\", \"cherry\"})\n",
        "\n",
        "#display x:\n",
        "print(x)\n",
        "\n",
        "#display the data type of x:\n",
        "print(type(x)) \n",
        "\n",
        "# Tipo bool\n",
        "x = True\n",
        "\n",
        "#display x:\n",
        "print(x)\n",
        "\n",
        "#display the data type of x:\n",
        "print(type(x)) \n",
        "\n",
        "# Tipo bytes\n",
        "x = b\"Hello\"\n",
        "\n",
        "#display x:\n",
        "print(x)\n",
        "\n",
        "#display the data type of x:\n",
        "print(type(x)) \n",
        "\n",
        "# Tipo bytearray\n",
        "x = bytearray(5)\n",
        "\n",
        "#display x:\n",
        "print(x)\n",
        "\n",
        "#display the data type of x:\n",
        "print(type(x)) \n",
        "\n",
        "# Tipo memoryview\n",
        "x = memoryview(bytes(5))\n",
        "\n",
        "#display x:\n",
        "print(x)\n",
        "\n",
        "#display the data type of x:\n",
        "print(type(x)) "
      ],
      "execution_count": null,
      "outputs": []
    },
    {
      "cell_type": "markdown",
      "metadata": {
        "id": "ooqqeKuY_vWJ"
      },
      "source": [
        "**Números de Python**: \n",
        "Hay tres tipos numéricos en Python:\n",
        "•\tint\n",
        "•\tfloat\n",
        "•\tcomplex\n",
        "\n",
        "Int, o entero, es un número entero, positivo o negativo, sin decimales, de longitud ilimitada.\n",
        "\n",
        "Float, o \"número de punto flotante\" es un número, positivo o negativo, que contiene uno o más decimales.\n",
        "\n",
        "Los números complejos se escriben con una \"j\" como parte imaginaria:\n"
      ]
    },
    {
      "cell_type": "code",
      "metadata": {
        "id": "j4pLy1rrADkr"
      },
      "source": [
        "x = 1\n",
        "y = 2.8\n",
        "z = 1j\n",
        "\n",
        "print(type(x))\n",
        "print(type(y))\n",
        "print(type(z))\n",
        "\n",
        "# Tipo int\n",
        "\n",
        "x = 1\n",
        "y = 35656222554887711\n",
        "z = -3255522\n",
        "\n",
        "print(\"y = \" , y)\n",
        "print(type(x))\n",
        "print(type(y))\n",
        "print(type(z))\n",
        "\n",
        "#Tipo Float\n",
        "x = 1.10\n",
        "y = 1.0\n",
        "z = -35.59\n",
        "\n",
        "print(type(x))\n",
        "print(type(y))\n",
        "print(type(z))\n",
        "\n",
        "# Float también pueden ser números científicos con una \"e\" para indicar la potencia de 10.\n",
        "x = 35e3\n",
        "y = 12E4\n",
        "z = -87.7e100\n",
        "\n",
        "print(\"x = \" ,x)\n",
        "print(type(x))\n",
        "print(type(y))\n",
        "print(type(z))\n",
        "\n",
        "# Tipo Complejo\n",
        "x = 3+5j\n",
        "y = 5j\n",
        "z = -5j\n",
        "\n",
        "print(\"x = \" , x)\n",
        "print(type(x))\n",
        "print(type(y))\n",
        "print(type(z))"
      ],
      "execution_count": null,
      "outputs": []
    },
    {
      "cell_type": "markdown",
      "metadata": {
        "id": "cSEhEARhBt8n"
      },
      "source": [
        "**Booleanos de Python**:\n",
        "\n",
        "Los booleanos representan uno de dos valores: Verdadero (True) o Falso (False).\n",
        "\n",
        "Cuando compara dos valores, la expresión se evalúa y Python devuelve la respuesta booleana:\n",
        "\n",
        "La mayoría de los valores son True:\n",
        "Casi cualquier valor se evalúa como True si tiene algún tipo de contenido.\n",
        "\n",
        "Cualquier cadena es True, excepto las cadenas vacías.\n",
        "\n",
        "Cualquier número es True, excepto 0.\n",
        "\n",
        "Cualquier lista, tupla, conjunto y diccionario son verdaderos, excepto los vacíos.\n"
      ]
    },
    {
      "cell_type": "code",
      "metadata": {
        "id": "stNAduGQB9vW"
      },
      "source": [
        "# Ejemplo de booleanos\n",
        "print(10 > 9)\n",
        "print(10 == 9)\n",
        "print(10 < 9)\n",
        "\n",
        "#Usando if\n",
        "a = 200\n",
        "b = 33\n",
        "\n",
        "if b > a:\n",
        "  print(\"b es mayor que a\")      # Debe de dejarse al menos un espacio al inicio de la linea.\n",
        "else:\n",
        "  print(\"b no es mayor que a\")\n",
        "\n",
        "# Lo siguiente devolverá True:\n",
        "print(bool(\"abc\"))\n",
        "print(bool(123))\n",
        "print(bool([\"apple\", \"cherry\", \"banana\"]))\n"
      ],
      "execution_count": null,
      "outputs": []
    },
    {
      "cell_type": "markdown",
      "metadata": {
        "id": "zImRE_WWau7Y"
      },
      "source": [
        "**Evaluar valores y variables**:\n",
        "\n",
        "La función bool() le permite evaluar cualquier valor y, a cambio, le da True o False.\n",
        "\n",
        "Algunos valores son False.\n",
        "\n",
        "De hecho, no hay muchos valores que se evalúen como False, excepto los valores vacíos, como (), [], {}, \"\", el número 0 y el valor Ninguno (None). Y, por supuesto, el valor False se evalúa como False.\n",
        "\n"
      ]
    },
    {
      "cell_type": "code",
      "metadata": {
        "id": "FFzchPtBuHsd"
      },
      "source": [
        "# Evaluar una cadena y un número:\n",
        "\n",
        "print(\"Evaluar una cadena y un número\")\n",
        "print(bool(\"Hello\"))\n",
        "print(bool(15))\n",
        "\n",
        "#Evalúe dos variables:\n",
        "print(\"Evalúe dos variables\")\n",
        "x = \"Hello\"\n",
        "y = 15\n",
        "\n",
        "print(bool(x))\n",
        "print(bool(y))\n",
        "\n",
        "# Lo siguiente devolverá True:\n",
        "print(\"Lo siguiente devolverá True\")\n",
        "print(bool(\"abc\"))\n",
        "print(bool(123))\n",
        "print(bool([\"apple\", \"cherry\", \"banana\"]))\n",
        "\n",
        "# Lo siguiente devolverá False:\n",
        "print(\"Lo siguiente devolverá False\")\n",
        "print(bool(False))\n",
        "print(bool(None))\n",
        "print(bool(0))\n",
        "print(bool(\"\"))\n",
        "print(bool(()))\n",
        "print(bool([]))\n",
        "print(bool({}))"
      ],
      "execution_count": null,
      "outputs": []
    },
    {
      "cell_type": "markdown",
      "metadata": {
        "id": "bLl8t8t0fHTo"
      },
      "source": [
        "**Las funciones pueden devolver un valor booleano** \n",
        "\n",
        "Puede crear funciones que devuelvan un valor booleano.\n",
        "\n",
        "Puede ejecutar código basado en la respuesta booleana de una función."
      ]
    },
    {
      "cell_type": "code",
      "metadata": {
        "id": "OdPiegNXfTfq"
      },
      "source": [
        "# Puede crear funciones que devuelvan un valor booleano\n",
        "\n",
        "print(\"Puede crear funciones que devuelvan un valor booleano\")\n",
        "def myFunction() :\n",
        "  return True\n",
        "\n",
        "print(myFunction())\n",
        "\n",
        "# Puede ejecutar código basado en la respuesta booleana de una función\n",
        "\n",
        "print(\"Puede ejecutar código basado en la respuesta booleana de una función\")\n",
        "def myFunction() :\n",
        "  return True\n",
        "\n",
        "if myFunction():\n",
        "  print(\"YES!\")\n",
        "else:\n",
        "  print(\"NO!\")\n",
        "\n"
      ],
      "execution_count": null,
      "outputs": []
    },
    {
      "cell_type": "markdown",
      "metadata": {
        "id": "mtLEsDvNh5Nu"
      },
      "source": [
        "**OPERADORES DE PYTHON**:\n",
        "\n",
        "Los operadores se utilizan para realizar operaciones sobre variables y valores.\n",
        "\n",
        "Python divide los operadores en los siguientes grupos:\n",
        "\n",
        "*Operadores aritmeticos\n",
        "•Operadores de Asignación\n",
        "•Operadores de comparación\n",
        "•Operadores lógicos\n",
        "• Operadores de identidad\n",
        "• Operadores de pertenencia\n",
        "• Operadores bit a bit\n",
        "\n",
        "Operadores aritméticos de Python.\n",
        "\n",
        "Los operadores aritméticos se utilizan con valores numéricos para realizar operaciones matemáticas comunes:\n",
        "\n",
        "+   suma                x + y\n",
        "-   Resta               x - y\n",
        "*   Multiplicacion      x * y\n",
        "/   Division            x / y\n",
        "%   Modulo              x % y\n",
        "**   Exponente          x ** y\n",
        "//   Division Entera    x // y"
      ]
    },
    {
      "cell_type": "code",
      "metadata": {
        "id": "zJjojYd4k7Bo"
      },
      "source": [
        "# Operador suma\n",
        "x = 5\n",
        "y = 3\n",
        "print(\"operador suma\")\n",
        "print(x + y)\n",
        "\n",
        "# Operador resta\n",
        "print(\"operador resta\")\n",
        "x = 5\n",
        "y = 3\n",
        "print(x - y)\n",
        "\n",
        "# Operador multiplicacion\n",
        "print(\"operador multiplicacion\")\n",
        "x = 5\n",
        "y = 3\n",
        "print(x * y)\n",
        "\n",
        "# Operador division\n",
        "print(\"operador division\")\n",
        "x = 12\n",
        "y = 3\n",
        "print(x / y)\n",
        "\n",
        "# Operador Modulo\n",
        "x = 5\n",
        "y = 2\n",
        "print(\"operador Modulo\")\n",
        "print(x % y)\n",
        "\n",
        "# Operador Exponente\n",
        "print(\"operador Exponente\")\n",
        "x = 2\n",
        "y = 5\n",
        "print(x ** y) # es lo mismo que 2*2*2*2*2\n",
        "\n",
        "# Operador Division entera\n",
        "x = 15\n",
        "y = 4\n",
        "print(\"operador Division entera\")\n",
        "print(x // y)\n",
        "\n",
        "# La division entera // redondea el resultado al número entero más cercano\n"
      ],
      "execution_count": null,
      "outputs": []
    },
    {
      "cell_type": "markdown",
      "metadata": {
        "id": "N0b8mhDZpSv5"
      },
      "source": [
        "**Operadores de asignación de Python**:\n",
        "\n",
        "Los operadores de asignación se utilizan para asignar valores a las variables:\n",
        "\n",
        "=         x = 5                    x = 5 Igualdad\n",
        "\n",
        "+=        x += 3                   x = x + 3 Icremento\n",
        "\n",
        "-=        x -= 3                   x = x – 3 Decremento\n",
        "\n",
        "*=        x *= 3                   x = x * 3 Multiplicacion\n",
        "\n",
        "/=        x /= 3                   x = x / 3 Division\n",
        "\n",
        "%=        x %= 3                   x = x % 3 Modulo\n",
        "\n",
        "//=       x //= 3                  x = x // 3 Division Entera\n",
        "\n",
        "**=       x **= 3                  x = x ** 3 Exponente\n",
        "\n",
        "&=        x &= 3                   x = x & 3 And\n",
        "\n",
        "|=        x |= 3                   x = x | 3 Or  \n",
        "\n",
        "\n",
        "^=       x ^= 3                    x = x ^ 3 Or exclusivo\n",
        "\n",
        ">>=      >>= 3                     x = x >> 3 Desplazamiento hacia la derecha\n",
        "\n",
        "<<=      x <<= 3   x = x << 3          Desplazamieto hacia laizquierda"
      ]
    },
    {
      "cell_type": "code",
      "metadata": {
        "id": "wKdK4GIQtLo2"
      },
      "source": [
        "# Operadores de igualdad\n",
        "print(\"Ejemplo de Operador de igualdad\")\n",
        "x = 5\n",
        "print(x)\n",
        "\n",
        "# Operadores de incremento\n",
        "print(\"Ejemplo de Operador de incremento\")\n",
        "x = 5\n",
        "x += 3\n",
        "print(x)\n",
        "\n",
        "# Operadores de decremento\n",
        "print(\"Ejemplo de Operador de decremento\")\n",
        "x = 5\n",
        "x -= 3\n",
        "print(x)\n",
        "\n",
        "# Operadores de multiplicacion\n",
        "print(\"Ejemplo de Operador de multiplicacion\")\n",
        "x = 5\n",
        "x *= 3\n",
        "print(x)\n",
        "\n",
        "# Operadores de division\n",
        "print(\"Ejemplo de Operador de division\")\n",
        "x = 5\n",
        "x /= 3\n",
        "print(x)\n",
        "\n",
        "# Operadores de modulo\n",
        "print(\"Ejemplo de Operador de modulo\")\n",
        "x = 5\n",
        "x%=3\n",
        "print(x)\n",
        "\n",
        "# Operadores de division entera\n",
        "print(\"Ejemplo de Operador division entera\")\n",
        "x = 5\n",
        "x//=3\n",
        "print(x)\n",
        "\n",
        "# Operadores de expoente\n",
        "print(\"Ejemplo de Operador exponente\")\n",
        "x = 5\n",
        "x **= 3\n",
        "print(x)\n",
        "\n",
        "# Operadores and\n",
        "print(\"Ejemplo de Operador and\")\n",
        "x = 5        # 5 = 0 1 0 1 , 3= 0 0 1 1\n",
        "x &= 3       # 0 0 0 1\n",
        "print(x)\n",
        "\n",
        "# Operadores de or\n",
        "print(\"Ejemplo de Operador or\")\n",
        "x = 5        # 5 = 0 1 0 1 , 3= 0 0 1 1\n",
        "x |= 3       # 0 1 1 1\n",
        "print(x)\n",
        "\n",
        "# Operadores de or exclusivo\n",
        "print(\"Ejemplo de Operador or exclusivo\")\n",
        "x = 5        # 5 = 0 1 0 1 , 3= 0 0 1 1\n",
        "x ^= 3       # 0 1 1 0\n",
        "print(x)\n",
        "\n",
        "# Operadores de desplazamiento la derecha\n",
        "print(\"Ejemplo de Operador corrimiento a la derecha\")\n",
        "x = 5        # 5 = 0 1 0 1\n",
        "x >>= 3      # 0 0 0 0\n",
        "print(x)\n",
        "\n",
        "# Operadores de desplazamiento a la izquierda\n",
        "print(\"Ejemplo de Operador corrimiento a la izquierda\")\n",
        "x = 5        # 5 = 0 1 0 1\n",
        "x <<= 3      # 0 0 1 0 1 0 0 0 \n",
        "print(x)"
      ],
      "execution_count": null,
      "outputs": []
    },
    {
      "cell_type": "markdown",
      "metadata": {
        "id": "h1Fg9vgQ2DQY"
      },
      "source": [
        "**Operadores de comparación de Python:**\n",
        "\n",
        "Los operadores de comparación se utilizan para comparar dos valores:\n",
        "\n",
        "==   igual              x == y\n",
        "\n",
        "!=   No igual           x != y\n",
        "\n",
        ">    Mayor que          x > y\n",
        "\n",
        "<    Menor que          x < y\n",
        "\n",
        ">=   Mayor o igual que  x >= y\n",
        "\n",
        "<=  Menor o igual que  x <= y"
      ]
    },
    {
      "cell_type": "code",
      "metadata": {
        "id": "7y12c1__3RfP"
      },
      "source": [
        "# Operador igual\n",
        "x = 5\n",
        "y = 3\n",
        "print(x == y, \"(Devuelve False porque 5 no es igual a 3)\")\n",
        "# Devuelve False porque 5 no es igual a 3\n",
        "\n",
        "# Operador no igual o diferente\n",
        "# x = 5\n",
        "# y = 3\n",
        "print(x != y, \"(Devuelve True porque 5 es diferente a 3)\")\n",
        "# Devuelve True porque 5 es diferente a 3\n",
        "\n",
        "# Operador mayor que\n",
        "# x = 5\n",
        "# y = 3\n",
        "print(x > y, \"(Devuelve True porque 5 es mayor que 3)\")\n",
        "# Devuelve True porque 5 es mayor que 3\n",
        "\n",
        "# Operador menor que\n",
        "# x = 5\n",
        "# y = 3\n",
        "print(x < y, \"Devuelve False porque 5 no es menor que 3)\" )\n",
        "# Devuelve False porque 5 no es menor que 3\n",
        "\n",
        "# Operador mayor o igual que\n",
        "# x = 5\n",
        "# y = 3\n",
        "print(x >= y, \"(Devuelve True porque 5 es mayor, o igual, que 3)\")\n",
        "# Devuelve True porque 5 es mayor, o igual, que 3\n",
        "\n",
        "# Operador menor o igual que\n",
        "# x = 5\n",
        "# y = 3\n",
        "print(x <= y, \"(Devuelve False porque 5 no es menor o igual que 3)\")\n",
        "# Devuelve False porque 5 no es menor o igual que 3"
      ],
      "execution_count": null,
      "outputs": []
    },
    {
      "cell_type": "markdown",
      "metadata": {
        "id": "s-Whiiep5tky"
      },
      "source": [
        "**Operadores lógicos de Python**:\n",
        "\n",
        "Los operadores lógicos se utilizan para combinar declaraciones condicionales:\n",
        "\n",
        "**and**    devuelve Verdadero si ambas declaraciones son verdaderas   x < 5 and  x < 10\n",
        "\n",
        "**or**   Devuelve Verdadero si una de las declaraciones es verdadera   x < 5 or x < 4\n",
        "\n",
        "**not**   Invierte el resultado, devuelve False si el resultado es verdadero   not(x < 5 and x < 10)"
      ]
    },
    {
      "cell_type": "code",
      "metadata": {
        "id": "wWb8RqJF6PVg",
        "colab": {
          "base_uri": "https://localhost:8080/"
        },
        "outputId": "ec26d4e3-912d-4984-8d97-a51c3f9afc93"
      },
      "source": [
        "# Operador and\n",
        "print(\"operador and\")\n",
        "x = 5\n",
        "print(x > 3 and x < 10)\n",
        "# devuelve True porque 5 es mayor que 3 Y 5 es menor que 10\n",
        "\n",
        "# Operador or\n",
        "print(\"operador or\")\n",
        "x = 5\n",
        "print(x > 3 or x < 4)\n",
        "# devuelve True porque una de las condiciones es verdadera (5 es mayor que 3, pero 5 no es menor que 4)\n",
        "\n",
        "# Operador not\n",
        "print(\"operador not\")\n",
        "x = 5\n",
        "print(not(x > 3 and x < 10))\n",
        "# devuelve False porque not se usa para revertir el resultado"
      ],
      "execution_count": null,
      "outputs": [
        {
          "output_type": "stream",
          "name": "stdout",
          "text": [
            "operador and\n",
            "True\n",
            "operador or\n",
            "True\n",
            "operador not\n",
            "False\n"
          ]
        }
      ]
    },
    {
      "cell_type": "markdown",
      "metadata": {
        "id": "UOyIxEzR707e"
      },
      "source": [
        "**Operadores de identidad de Python**\n",
        "\n",
        "Los operadores de identidad se utilizan para comparar los objetos, no si son iguales, sino si en realidad son el mismo objeto, con la misma ubicación de memoria:\n",
        "\n",
        "**is**       Devuelve True si ambas variables son el mismo objeto   x is y\n",
        "\n",
        "**is not**   Devuelve True si ambas variables no son el mismo objeto   x is not y\n"
      ]
    },
    {
      "cell_type": "code",
      "metadata": {
        "id": "pSSn9UhG8thm",
        "colab": {
          "base_uri": "https://localhost:8080/"
        },
        "outputId": "1659a9e2-7149-4da4-a6ce-84ca7cda73e7"
      },
      "source": [
        "# Operador is\n",
        "x = [\"apple\", \"banana\"]\n",
        "y = [\"apple\", \"banana\"]\n",
        "z = x\n",
        "print(x is z)\n",
        "# devuelve True porque z es el mismo objeto que x\n",
        "print(x is y)\n",
        "# devuelve False porque x no es el mismo objeto que y, incluso si tienen el mismo contenido\n",
        "print(x == y)\n",
        "# para demostrar la diferencia entre \"is\" y \"==\": esta comparación devuelve True porque x es igual a y\n",
        "\n",
        "# Operador not is\n",
        "x = [\"apple\", \"banana\"]\n",
        "y = [\"apple\", \"banana\"]\n",
        "z = x\n",
        "print(x is not z)\n",
        "# devuelve False porque z es el mismo objeto que x\n",
        "print(x is not y)\n",
        "# devuelve True porque x no es el mismo objeto que y, incluso si tienen el mismo contenido\n",
        "print(x != y)\n",
        "# para demostrar la diferencia entre \"is not\" y \"! =\": esta comparación devuelve Falso porque x es igual a y"
      ],
      "execution_count": null,
      "outputs": [
        {
          "output_type": "stream",
          "name": "stdout",
          "text": [
            "True\n",
            "False\n",
            "True\n",
            "False\n",
            "True\n",
            "False\n"
          ]
        }
      ]
    },
    {
      "cell_type": "markdown",
      "metadata": {
        "id": "Xh_71sk6k1sl"
      },
      "source": [
        "**Operadores de pertenencia de Python:**\n",
        "\n",
        "Los operadores de pertenencia se utilizan para probar si se presenta una secuencia en un objeto:\n",
        "\n",
        "**in**        Devuelve True si una secuencia con el valor especificado está presente en el objeto\n",
        "\n",
        "**not in**    Devuelve True si una secuencia con el valor especificado no está presente en el objeto"
      ]
    },
    {
      "cell_type": "code",
      "metadata": {
        "id": "-ZeylFYalfnw",
        "colab": {
          "base_uri": "https://localhost:8080/"
        },
        "outputId": "132ce2cd-e24a-4f3d-ff35-bafa507cea44"
      },
      "source": [
        "# Operador in\n",
        "\n",
        "x = [\"manzana\", \"mango\"]\n",
        "\n",
        "print(\"mango\" in x)\n",
        "\n",
        "# devuelve True porque una secuencia con el valor \"banana\" está en la lista\n",
        "\n",
        "\n",
        "\n",
        "# Operador not in\n",
        "\n",
        "x = [\"manzana\", \"mango\"]\n",
        "\n",
        "print(\"piña\" not in x)\n",
        "\n",
        "# devuelve True porque una secuencia con el valor \"pineapple\" no está en la lista\n"
      ],
      "execution_count": null,
      "outputs": [
        {
          "output_type": "stream",
          "name": "stdout",
          "text": [
            "True\n",
            "True\n"
          ]
        }
      ]
    },
    {
      "cell_type": "markdown",
      "metadata": {
        "id": "9RnvcjevAzeA"
      },
      "source": [
        "**Operadores bit a bit de Python**:\n",
        "\n",
        "Los operadores bit a bit se utilizan para comparar números (binarios):\n",
        "\n",
        "**& **    AND            Establece cada bit en 1 si ambos bits son 1\n",
        "\n",
        "**|**     OR             Establece cada bit en 1 si uno de los dos bits es 1\n",
        "\n",
        "**^**     XOR            Establece cada bit en 1 si solo uno de los dos bits es 1\n",
        "\n",
        "**~**     NOT            Invierte todos los bits\n",
        "\n",
        "**<<**    Desplazamiento a la izquierda.       Desplaza los bits n posiciones hacia la izquierda colocando ceros desde la derecha \n",
        "\n",
        "**>>**   Desplazamiento a la derecha.          Desplaza los bits n posiciones hacia la derecha colocando ceros desde la izquierda."
      ]
    },
    {
      "cell_type": "code",
      "metadata": {
        "id": "-PSFFxL2nnZQ",
        "colab": {
          "base_uri": "https://localhost:8080/"
        },
        "outputId": "1b89e6c3-a7b7-47da-bff0-e8c42f6fcc8a"
      },
      "source": [
        "\"\"\" 3 en binario es 0011\n",
        "    2 en binario es 0010   \"\"\"\n",
        "\n",
        "# Ejemplo Operador AND\n",
        "r = 3 & 2        # 0010\n",
        "print(\"Para el operador AND, el valor de r es: \" , r)\n",
        "\n",
        "# Ejemplo Operador OR\n",
        "r = 3 | 2        # 0011\n",
        "print(\"Para el operador OR, el valor de r es:  \" , r)\n",
        "\n",
        "# Ejemplo Operador XOR\n",
        "r = 3 ^ 2        # 0001\n",
        "print(\"Para el operador XOR, el valor de r es:  \" , r)\n",
        "\n",
        "# Ejemplo Operador NOT\n",
        "r = ~3           # 1100\n",
        "print(\"Para el operador NOT, el valor de r es:  \" , r)\n",
        "\n",
        "# Ejemplo Operador desplazamiento a la izquierda\n",
        "r = 3 << 1        # 0110\n",
        "print(\"Para el operador Desplazamiento a la izquierda, el valor de r es:  \" , r)\n",
        "\n",
        "# Ejemplo Operador desplazamiento a la derecha\n",
        "r = 3 >> 1        # 0001\n",
        "print(\"Para el operador Desplazamiento a la derecha, el valor de r es:  \" , r)"
      ],
      "execution_count": null,
      "outputs": [
        {
          "output_type": "stream",
          "name": "stdout",
          "text": [
            "Para el operador AND, el valor de r es:  2\n",
            "Para el operador OR, el valor de r es:   3\n",
            "Para el operador XOR, el valor de r es:   1\n",
            "Para el operador NOT, el valor de r es:   -4\n",
            "Para el operador Desplazamiento a la izquierda, el valor de r es:   6\n",
            "Para el operador Desplazamiento a la derecha, el valor de r es:   1\n"
          ]
        }
      ]
    },
    {
      "cell_type": "code",
      "metadata": {
        "id": "eyOYGb-e6Lbv"
      },
      "source": [
        ""
      ],
      "execution_count": null,
      "outputs": []
    }
  ]
}