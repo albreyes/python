{
  "nbformat": 4,
  "nbformat_minor": 0,
  "metadata": {
    "colab": {
      "name": "Funciones.ipynb",
      "provenance": [],
      "collapsed_sections": []
    },
    "kernelspec": {
      "name": "python3",
      "display_name": "Python 3"
    },
    "language_info": {
      "name": "python"
    }
  },
  "cells": [
    {
      "cell_type": "markdown",
      "metadata": {
        "id": "A-MEOYoq8OIK"
      },
      "source": [
        "----------------------\n",
        "Funciones de Python\n",
        "----------------------\n",
        "Una función es un bloque de código que solo se ejecuta cuando se llama.\n",
        "\n",
        "Puede pasar datos, conocidos como parámetros, a una función.\n",
        "\n",
        "Una función puede devolver datos como resultado.\n",
        "\n",
        "**Crear una función**\n",
        "\n",
        "En Python, una función se define usando la palabra clave **def**:\n",
        "\n",
        "**Llamar a una función**\n",
        "\n",
        "Para llamar a una función, use el nombre de la función seguido de paréntesis:\n"
      ]
    },
    {
      "cell_type": "code",
      "metadata": {
        "id": "OVJrB55Q8NfD"
      },
      "source": [
        "# Creaciobn de una Funcion\n",
        "\n",
        "def mensaje():\n",
        "  print(\"Nuevo mensaje\")\n",
        "\n",
        "mensaje()\n"
      ],
      "execution_count": null,
      "outputs": []
    },
    {
      "cell_type": "markdown",
      "metadata": {
        "id": "b-wdumhs-aN9"
      },
      "source": [
        "**Argumentos**\n",
        "\n",
        "La información se puede pasar a funciones como argumentos.\n",
        "\n",
        "Los argumentos se especifican después del nombre de la función, entre paréntesis. Puede agregar tantos argumentos como desee, solo sepárelos con una coma.\n",
        "\n",
        "Los argumentos a menudo se acortan a **args** en las documentaciones de Python.\n",
        "\n",
        "El siguiente ejemplo tiene una función con un argumento (nombre). Cuando se llama a la función, pasamos un nombre, que se usa dentro de la función para imprimir el nombre completo:\n"
      ]
    },
    {
      "cell_type": "code",
      "metadata": {
        "id": "nsAAz7sx9zm_"
      },
      "source": [
        "\n",
        "def mi_nombre(nombre):\n",
        "  print(\"Mi nombre es:\", nombre + \" \" + \"Martinez\")\n",
        "\n",
        "mi_nombre(\"Miguel\")\n",
        "mi_nombre(\"Laura\")\n",
        "mi_nombre(\"Carmen\")\n"
      ],
      "execution_count": null,
      "outputs": []
    },
    {
      "cell_type": "markdown",
      "metadata": {
        "id": "DfQ-OeFkBwf-"
      },
      "source": [
        "**¿Parámetros o argumentos?**\n",
        "\n",
        "Los términos parámetro y argumento se pueden usar para lo mismo: información que se pasa a una función.\n",
        "\n",
        "Desde la perspectiva de una función:\n",
        "\n",
        "Un parámetro es la variable que aparece entre paréntesis en la definición de la función.\n",
        "\n",
        "Un argumento es el valor que se envía a la función cuando se llama.\n",
        "\n",
        "**Número de argumentos**\n",
        "\n",
        "De forma predeterminada, se debe llamar a una función con el número correcto de argumentos. Lo que significa que, si su función espera 2 argumentos, debe llamar a la función con 2 argumentos, ni más ni menos.\n",
        "\n"
      ]
    },
    {
      "cell_type": "code",
      "metadata": {
        "id": "ke8BfncaCl-C"
      },
      "source": [
        "# Esta funcion espera 4 elementos \n",
        "\n",
        "def nombre_completo(prinom,segnom,appat,apmat):\n",
        "  print(\"Mi nombre completo es:\", prinom + \" \" + segnom + \" \" + appat + \" \" + apmat)\n",
        "\n",
        "nombre_completo(\"Miguel\", \"Angel\", \"Martinez\", \"Morales\")\n",
        "# nombre_completo(\"Angel\", \"Martinez\", \"Morales\")"
      ],
      "execution_count": null,
      "outputs": []
    },
    {
      "cell_type": "markdown",
      "metadata": {
        "id": "oWh6p-7OE1hY"
      },
      "source": [
        "--------------------------------\n",
        "Argumentos arbitrarios, *args\n",
        "--------------------------------\n",
        "\n",
        "Si no sabe cuántos argumentos se pasarán a su función, agregue un * antes del nombre del parámetro en la definición de la función.\n",
        "\n",
        "De esta forma, la función recibirá una tupla de argumentos y podrá acceder a los elementos en consecuencia.\n",
        "\n",
        "Los argumentos arbitrarios a menudo se acortan a *args en la documentación de Python.\n"
      ]
    },
    {
      "cell_type": "code",
      "metadata": {
        "id": "oon7Ox1LFeyY"
      },
      "source": [
        "# Si se desconoce el número de argumentos, agregue un * antes del nombre del parámetro:\n",
        "\n",
        "def fun_niños(*niños):\n",
        "  print(\"El niño mas peuqeño es:\", niños[0])\n",
        "\n",
        "fun_niños(\"Pablo\", \"Jose\", \"Pedro\")"
      ],
      "execution_count": null,
      "outputs": []
    },
    {
      "cell_type": "markdown",
      "metadata": {
        "id": "oj7eovOVHtTk"
      },
      "source": [
        "----------------------------------------------------\n",
        "Argumentos de palabras clave (Keyword Arguments)\n",
        "----------------------------------------------------\n",
        "\n",
        "También puede enviar argumentos con la sintaxis **clave = valor**.\n",
        "\n",
        "De esta forma no importa el orden de los argumentos.\n",
        "\n",
        "La frase Keyword Arguments a menudo se abrevia a **kwargs** en las documentaciones de Python.\n"
      ]
    },
    {
      "cell_type": "code",
      "metadata": {
        "id": "aMFXEIicH5HL"
      },
      "source": [
        "def fun_niño(niño3, niño2, niño1):\n",
        "  print(\"El niño mas peuqeño es:\", niño3)\n",
        "\n",
        "fun_niño(niño1 = \"Pablo\", niño2 = \"Jose\", niño3 = \"Pedro\")"
      ],
      "execution_count": null,
      "outputs": []
    },
    {
      "cell_type": "markdown",
      "metadata": {
        "id": "_Cx1wRQNK7O_"
      },
      "source": [
        "----------------------------------------------------\n",
        "Argumentos de palabras clave arbitrarias, ** kwargs\n",
        "----------------------------------------------------\n",
        "\n",
        "Si no sabe cuántos argumentos de palabras clave se pasarán a su función, agregue dos asteriscos: ** antes del nombre del parámetro en la definición de la función.\n",
        "\n",
        "De esta forma, la función recibirá un diccionario de argumentos y podrá acceder a los elementos en consecuencia.\n",
        "\n",
        "La frase de argumentos arbitrarios de Keyword a menudo se acortan a **kwargs en las documentaciones de Python.\n"
      ]
    },
    {
      "cell_type": "code",
      "metadata": {
        "id": "yG0CaItZLXdz"
      },
      "source": [
        "# Si se desconoce el número de argumentos de palabras clave, agregue un doble ** antes del nombre del parámetro:\n",
        "\n",
        "def niños(**kid):\n",
        "  print(\"El segundo apellido es:\", kid[\"seg_ape\"])\n",
        "\n",
        "niños(pri_ape = \"Martinez\", seg_ape = \"Morales\")"
      ],
      "execution_count": null,
      "outputs": []
    },
    {
      "cell_type": "markdown",
      "metadata": {
        "id": "hgT7YGIcUKH_"
      },
      "source": [
        "**Valor predeterminado de parámetro**\n",
        "\n",
        "El siguiente ejemplo muestra cómo utilizar un valor de parámetro predeterminado.\n",
        "\n",
        "Si llamamos a la función sin argumento, usa el valor predeterminado:"
      ]
    },
    {
      "cell_type": "code",
      "metadata": {
        "id": "_Bd1fOnhUN_9"
      },
      "source": [
        "def mi_funcion(pais = \"Mexico\"):\n",
        "  print(pais)\n",
        "\n",
        "mi_funcion(\"Canada\")\n",
        "mi_funcion(\"Honduras\")\n",
        "mi_funcion()\n",
        "mi_funcion(\"Portugal\")"
      ],
      "execution_count": null,
      "outputs": []
    },
    {
      "cell_type": "markdown",
      "metadata": {
        "id": "xavWqLWVSa_o"
      },
      "source": [
        "**Pasar una lista como argumento**\n",
        "\n",
        "Puede enviar cualquier tipo de datos de argumento a una función (cadena, número, lista, diccionario, etc.), y se tratará como el mismo tipo de datos dentro de la función.\n",
        "\n",
        "P.ej. si envía una Lista como argumento, seguirá siendo una Lista cuando llegue a la función:\n"
      ]
    },
    {
      "cell_type": "code",
      "metadata": {
        "id": "I3u2QSqQSi93"
      },
      "source": [
        "def mi_funcion(food):\n",
        "  for x in food:\n",
        "    print(x)\n",
        "\n",
        "frutas = [\"melon\", \"fresa\", \"manzana\"]\n",
        "\n",
        "mi_funcion(frutas)"
      ],
      "execution_count": null,
      "outputs": []
    },
    {
      "cell_type": "markdown",
      "metadata": {
        "id": "UR-McUYQWtZC"
      },
      "source": [
        "**Valores devueltos**\n",
        "\n",
        "Para permitir que una función devuelva un valor, use la declaración de return:\n"
      ]
    },
    {
      "cell_type": "code",
      "metadata": {
        "id": "SWs-oEEnWsyc"
      },
      "source": [
        "def mi_funcion(x):\n",
        "  return x * 5\n",
        "\n",
        "print(mi_funcion(1))\n",
        "print(mi_funcion(3))\n",
        "print(mi_funcion(7))"
      ],
      "execution_count": null,
      "outputs": []
    },
    {
      "cell_type": "markdown",
      "metadata": {
        "id": "5jsoTQEPY32c"
      },
      "source": [
        "**La declaración de pass**\n",
        "\n",
        "Las definiciones de función no pueden estar vacías, pero si por alguna razón tiene una definición de función sin contenido, coloque la instrucción pass para evitar errores.\n"
      ]
    },
    {
      "cell_type": "code",
      "metadata": {
        "id": "S8fir4tUZVZi"
      },
      "source": [
        "def mi_funcion():\n",
        "  pass\n",
        "\n",
        "# tener una definición de función vacía como esta, generaría un error sin la declaración de paso"
      ],
      "execution_count": null,
      "outputs": []
    },
    {
      "cell_type": "markdown",
      "metadata": {
        "id": "XzciX7YvpEcZ"
      },
      "source": [
        "-------------\n",
        "Recursividad\n",
        "-------------\n",
        "\n",
        "Python también acepta la recursividad de funciones, lo que significa que una función definida puede llamarse a sí misma.\n",
        "\n",
        "La recursividad es un concepto matemático y de programación común. Significa que una función se llama a sí misma. Esto tiene la ventaja de significar que puede recorrer los datos para llegar a un resultado.\n",
        "\n",
        "El desarrollador debe tener mucho cuidado con la recursividad, ya que puede ser bastante fácil escribir una función que nunca termina, o una que usa cantidades excesivas de memoria o potencia del procesador. Sin embargo, cuando se escribe correctamente, la recursividad puede ser un enfoque de programación muy eficiente y matemáticamente elegante.\n",
        "\n",
        "En este ejemplo, tri_recursion() es una función que hemos definido para llamarse a sí misma (\"recurse\"). Usamos la variable k como dato, que disminuye (-1) cada vez que recurrimos. La recursividad termina cuando la condición no es mayor que 0 (es decir, cuando es 0).\n",
        "\n",
        "Para un desarrollador nuevo, puede tomar algún tiempo averiguar cómo funciona exactamente, la mejor manera de averiguarlo es probándolo y modificándolo.\n"
      ]
    },
    {
      "cell_type": "code",
      "metadata": {
        "id": "TGHuLK-VpBtM"
      },
      "source": [
        "def tri_recursion(k):\n",
        "  if(k > 0):\n",
        "    result = k + tri_recursion(k - 1)\n",
        "    print(result)\n",
        "  else:\n",
        "    result = 0\n",
        "  return result\n",
        "\n",
        "print(\"\\n\\nRecursion Example Results\")\n",
        "tri_recursion(6)\n"
      ],
      "execution_count": null,
      "outputs": []
    },
    {
      "cell_type": "markdown",
      "metadata": {
        "id": "2txNTi9ba5Be"
      },
      "source": [
        "--------------\n",
        "Python Lambda\n",
        "--------------\n",
        "\n",
        "Una función lambda es una pequeña función anónima.\n",
        "\n",
        "Una función lambda puede tomar cualquier número de argumentos, pero solo puede tener una expresión.\n",
        "\n",
        "Sintaxis:\n",
        "\n",
        "*lambda arguments : expression*\n",
        "\n",
        "Se ejecuta la expresión y se devuelve el resultado:\n"
      ]
    },
    {
      "cell_type": "code",
      "metadata": {
        "id": "Ll1jV7-mbJyM"
      },
      "source": [
        "# Agregue 10 al argumento a y devuelva el resultado:\n",
        "\n",
        "x = lambda a: a +10\n",
        "\n",
        "print(x(4))\n",
        "print(x(5))\n"
      ],
      "execution_count": null,
      "outputs": []
    },
    {
      "cell_type": "markdown",
      "metadata": {
        "id": "8Rvv-NVbbt2c"
      },
      "source": [
        "Las funciones Lambda pueden tomar cualquier número de argumentos:"
      ]
    },
    {
      "cell_type": "code",
      "metadata": {
        "colab": {
          "base_uri": "https://localhost:8080/"
        },
        "id": "0LjUGvk34rXw",
        "outputId": "f7132439-837c-4b2b-d206-9c1ac5e627a4"
      },
      "source": [
        "# Multiplica el argumento a con el argumento b y devuelve el resultado:\n",
        "\n",
        "duplicado = lambda a, b: a * b\n",
        "print(duplicado(4, 5))\n"
      ],
      "execution_count": null,
      "outputs": [
        {
          "output_type": "stream",
          "name": "stdout",
          "text": [
            "20\n"
          ]
        }
      ]
    },
    {
      "cell_type": "code",
      "metadata": {
        "id": "Oej726RicR3o"
      },
      "source": [
        "# Suma de los argumentos a, b y c, y devuelve el resultado:\n",
        "\n",
        "suma = lambda a, b, c: a + b + c\n",
        "print(suma(4, 5, 7))"
      ],
      "execution_count": null,
      "outputs": []
    },
    {
      "cell_type": "markdown",
      "metadata": {
        "id": "GQhcZFDAddJA"
      },
      "source": [
        "**¿Por qué utilizar las funciones Lambda?**\n",
        "\n",
        "El poder de lambda se muestra mejor cuando los usa como una función anónima dentro de otra función.\n",
        "\n",
        "Digamos que tiene una definición de función que toma un argumento, y ese argumento se multiplicará por un número desconocido:\n"
      ]
    },
    {
      "cell_type": "code",
      "metadata": {
        "id": "GpDEVKrndl0w"
      },
      "source": [
        "def mifuncion(n):\n",
        "  return lambda a : a * n"
      ],
      "execution_count": null,
      "outputs": []
    },
    {
      "cell_type": "markdown",
      "metadata": {
        "id": "nMCq8PnNeSHQ"
      },
      "source": [
        "Use esa definición de función para hacer una función que siempre duplique el número que envía:"
      ]
    },
    {
      "cell_type": "code",
      "metadata": {
        "id": "5IIOoQBmeYWP"
      },
      "source": [
        "def mifuncion(n):\n",
        "  return lambda a : a * n\n",
        "\n",
        "midoble = mifuncion(2)\n",
        "\n",
        "print(midoble(5))"
      ],
      "execution_count": null,
      "outputs": []
    },
    {
      "cell_type": "markdown",
      "metadata": {
        "id": "V8ppGskLffJu"
      },
      "source": [
        "O use la misma definición de función para hacer una función que siempre triplique el número que envía:"
      ]
    },
    {
      "cell_type": "code",
      "metadata": {
        "id": "IGtO6qFvfjF4"
      },
      "source": [
        "def mifuncion(n):\n",
        "  return lambda a : a * n\n",
        "\n",
        "midoble = mifuncion(3)\n",
        "\n",
        "print(midoble(5))"
      ],
      "execution_count": null,
      "outputs": []
    },
    {
      "cell_type": "markdown",
      "metadata": {
        "id": "C9OVOVUffxQe"
      },
      "source": [
        "O use la misma definición de función para hacer ambas funciones, en el mismo programa:"
      ]
    },
    {
      "cell_type": "code",
      "metadata": {
        "id": "0LHxJqqHfyDu"
      },
      "source": [
        "def  mifuncion(n):\n",
        "  return lambda a: a *n\n",
        "\n",
        "midoble = mifuncion(2)\n",
        "mitriple = mifuncion(3)\n",
        "\n",
        "print(midoble(13))\n",
        "print(mitriple(13))"
      ],
      "execution_count": null,
      "outputs": []
    }
  ]
}