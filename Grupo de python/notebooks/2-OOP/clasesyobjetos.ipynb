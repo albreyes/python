{
 "cells": [
  {
   "cell_type": "markdown",
   "metadata": {},
   "source": [
    "## Clases y objetos"
   ]
  },
  {
   "cell_type": "markdown",
   "metadata": {},
   "source": [
    "### Ejemplo 1"
   ]
  },
  {
   "cell_type": "code",
   "execution_count": 29,
   "metadata": {
    "executionInfo": {
     "elapsed": 252,
     "status": "ok",
     "timestamp": 1630552877903,
     "user": {
      "displayName": "Alberto Reyes",
      "photoUrl": "https://lh3.googleusercontent.com/a-/AOh14Ghtp9VBpYrt3_6wJsB0V_dxFPM5xchw8QmtdQFn=s64",
      "userId": "05370953615095466553"
     },
     "user_tz": 300
    },
    "id": "Sxy9oroE40Fn"
   },
   "outputs": [],
   "source": [
    "import datetime\n",
    "\n",
    "class Usuario:\n",
    "  # docstring\n",
    "  \"\"\"Miembro del conjunto de usuarios. Primero\n",
    "  definiremos dos atributos y un constructor y \n",
    "  luego agregaremos mas atributos y algun método\"\"\"\n",
    "  # ddmmaaaa\n",
    "  def __init__(self,nombre,fecha_nacimiento):\n",
    "    \"\"\"Metodo constructor\"\"\"\n",
    "    self.nombre=nombre\n",
    "    self.fecha_nacimiento=fecha_nacimiento\n",
    "    self.nombre_en_partes=nombre.split(\" \")\n",
    "\n",
    "  def edad(self):\n",
    "        \"\"\"Devuelve la edad en años\"\"\"\n",
    "        hoy=datetime.date(2021,2,10)\n",
    "        #hoy=datetime.now()\n",
    "        yyyy=int(self.fecha_nacimiento[0:4])\n",
    "        mm=int(self.fecha_nacimiento[4:6])\n",
    "        dd=int(self.fecha_nacimiento[6:8])\n",
    "        dob=datetime.date(yyyy,mm,dd)\n",
    "        edad_en_dias=(hoy-dob).days\n",
    "        edad_en_anos=edad_en_dias/365\n",
    "        return int(edad_en_anos)\n",
    "\n"
   ]
  },
  {
   "cell_type": "code",
   "execution_count": 30,
   "metadata": {
    "executionInfo": {
     "elapsed": 10,
     "status": "ok",
     "timestamp": 1630552878158,
     "user": {
      "displayName": "Alberto Reyes",
      "photoUrl": "https://lh3.googleusercontent.com/a-/AOh14Ghtp9VBpYrt3_6wJsB0V_dxFPM5xchw8QmtdQFn=s64",
      "userId": "05370953615095466553"
     },
     "user_tz": 300
    },
    "id": "NwcGzXbP7dfe"
   },
   "outputs": [],
   "source": [
    "usuario1=Usuario(\"Alberto Reyes Ballesteros\",\"19660606\")\n",
    "usuario2=Usuario(\"Israel Chavez\",\"19650601\")"
   ]
  },
  {
   "cell_type": "code",
   "execution_count": 31,
   "metadata": {
    "colab": {
     "base_uri": "https://localhost:8080/"
    },
    "executionInfo": {
     "elapsed": 10,
     "status": "ok",
     "timestamp": 1630552878159,
     "user": {
      "displayName": "Alberto Reyes",
      "photoUrl": "https://lh3.googleusercontent.com/a-/AOh14Ghtp9VBpYrt3_6wJsB0V_dxFPM5xchw8QmtdQFn=s64",
      "userId": "05370953615095466553"
     },
     "user_tz": 300
    },
    "id": "-UErWRQm8rhY",
    "outputId": "37fb3498-07ac-47b0-fe7c-5e56bfbc978b"
   },
   "outputs": [
    {
     "name": "stdout",
     "output_type": "stream",
     "text": [
      "Alberto Reyes Ballesteros\n",
      "['Israel', 'Chavez'] 19650601\n"
     ]
    },
    {
     "data": {
      "text/plain": [
       "55"
      ]
     },
     "execution_count": 31,
     "metadata": {},
     "output_type": "execute_result"
    }
   ],
   "source": [
    "print(usuario1.nombre)\n",
    "print(usuario2.nombre_en_partes,usuario2.fecha_nacimiento)\n",
    "usuario2.edad()"
   ]
  },
  {
   "cell_type": "markdown",
   "metadata": {
    "colab": {
     "base_uri": "https://localhost:8080/"
    },
    "executionInfo": {
     "elapsed": 8,
     "status": "ok",
     "timestamp": 1630552878160,
     "user": {
      "displayName": "Alberto Reyes",
      "photoUrl": "https://lh3.googleusercontent.com/a-/AOh14Ghtp9VBpYrt3_6wJsB0V_dxFPM5xchw8QmtdQFn=s64",
      "userId": "05370953615095466553"
     },
     "user_tz": 300
    },
    "id": "6k0SzrDG97k3",
    "outputId": "552ecc88-3d6b-48b1-d253-bc395e3c6947"
   },
   "source": [
    "help(Usuario)"
   ]
  },
  {
   "cell_type": "markdown",
   "metadata": {},
   "source": [
    "### Ejemplo 2"
   ]
  },
  {
   "cell_type": "code",
   "execution_count": 32,
   "metadata": {},
   "outputs": [],
   "source": [
    "class Animal:\n",
    "    pass\n",
    "\n",
    "mamifero=Animal()"
   ]
  },
  {
   "cell_type": "code",
   "execution_count": 33,
   "metadata": {},
   "outputs": [],
   "source": [
    "mamifero.nombre=\"Mamon\""
   ]
  },
  {
   "cell_type": "code",
   "execution_count": 34,
   "metadata": {},
   "outputs": [
    {
     "name": "stdout",
     "output_type": "stream",
     "text": [
      "Mamon\n"
     ]
    }
   ],
   "source": [
    "print(mamifero.nombre)"
   ]
  },
  {
   "cell_type": "code",
   "execution_count": 35,
   "metadata": {},
   "outputs": [
    {
     "data": {
      "text/plain": [
       "str"
      ]
     },
     "execution_count": 35,
     "metadata": {},
     "output_type": "execute_result"
    }
   ],
   "source": [
    "type(mamifero.nombre)"
   ]
  },
  {
   "cell_type": "code",
   "execution_count": 36,
   "metadata": {},
   "outputs": [],
   "source": [
    "#from datetime import datetime\n",
    "#from datetime import date\n",
    "import datetime\n",
    "\n",
    "class Mamifero:\n",
    "    # docstring\n",
    "    \"\"\"\"Miembro de los animales. Por lo pronto \n",
    "    solo guardaremos su nombre y fecha de nacimiento.\n",
    "    Pero pronto guardaremos cualquier cantidad de \n",
    "    información de usuario.\"\"\"\n",
    "    \n",
    "    def __init__(self, nombre_completo, cumpleanos):\n",
    "        self.name=nombre_completo\n",
    "        self.cumpleanos=cumpleanos #yyyymmdd\n",
    "        \n",
    "        # extrae primer nombre y apellido\n",
    "        nombre_en_partes=nombre_completo.split(\" \")\n",
    "        self.primer_nombre=nombre_en_partes[0]\n",
    "        self.apellido=nombre_en_partes[-1]    \n",
    "        \n",
    "    def edad(self):\n",
    "        \"\"\"Devuelve la edad en anos\"\"\"\n",
    "        hoy=datetime.date(2021,2,10)\n",
    "        #hoy=datetime.now()\n",
    "        yyyy=int(self.cumpleanos[0:4])\n",
    "        mm=int(self.cumpleanos[4:6])\n",
    "        dd=int(self.cumpleanos[6:8])\n",
    "        dob=datetime.date(yyyy,mm,dd)\n",
    "        edad_en_dias=(hoy-dob).days\n",
    "        edad_en_anos=edad_en_dias/365\n",
    "        return int(edad_en_anos)\n",
    "        "
   ]
  },
  {
   "cell_type": "code",
   "execution_count": 37,
   "metadata": {},
   "outputs": [],
   "source": [
    "mamifero=Mamifero(\"leon campeon\",\"20210505\")"
   ]
  },
  {
   "cell_type": "code",
   "execution_count": 38,
   "metadata": {},
   "outputs": [
    {
     "name": "stdout",
     "output_type": "stream",
     "text": [
      "leon campeon\n",
      "20210505\n",
      "leon\n",
      "campeon\n"
     ]
    }
   ],
   "source": [
    "print(mamifero.name)\n",
    "print(mamifero.cumpleanos)\n",
    "print(mamifero.primer_nombre)\n",
    "print(mamifero.apellido)"
   ]
  },
  {
   "cell_type": "code",
   "execution_count": 39,
   "metadata": {},
   "outputs": [
    {
     "name": "stdout",
     "output_type": "stream",
     "text": [
      "Help on class Mamifero in module __main__:\n",
      "\n",
      "class Mamifero(builtins.object)\n",
      " |  Mamifero(nombre_completo, cumpleanos)\n",
      " |  \n",
      " |  \"Miembro de los animales. Por lo pronto \n",
      " |  solo guardaremos su nombre y fecha de nacimiento.\n",
      " |  Pero pronto guardaremos cualquier cantidad de \n",
      " |  información de usuario.\n",
      " |  \n",
      " |  Methods defined here:\n",
      " |  \n",
      " |  __init__(self, nombre_completo, cumpleanos)\n",
      " |      Initialize self.  See help(type(self)) for accurate signature.\n",
      " |  \n",
      " |  edad(self)\n",
      " |      Devuelve la edad en anos\n",
      " |  \n",
      " |  ----------------------------------------------------------------------\n",
      " |  Data descriptors defined here:\n",
      " |  \n",
      " |  __dict__\n",
      " |      dictionary for instance variables (if defined)\n",
      " |  \n",
      " |  __weakref__\n",
      " |      list of weak references to the object (if defined)\n",
      "\n"
     ]
    }
   ],
   "source": [
    "help(Mamifero)"
   ]
  },
  {
   "cell_type": "code",
   "execution_count": 40,
   "metadata": {},
   "outputs": [],
   "source": [
    "mamifero=Mamifero(\"Juan\",\"20000501\")"
   ]
  },
  {
   "cell_type": "code",
   "execution_count": 41,
   "metadata": {},
   "outputs": [
    {
     "name": "stdout",
     "output_type": "stream",
     "text": [
      "20\n"
     ]
    }
   ],
   "source": [
    "print(mamifero.edad())"
   ]
  }
 ],
 "metadata": {
  "colab": {
   "authorship_tag": "ABX9TyPuGGgV51bUZ4e2pIGbTC0Z",
   "name": "clasesyobjetos.ipynb",
   "provenance": []
  },
  "kernelspec": {
   "display_name": "Python 3 (ipykernel)",
   "language": "python",
   "name": "python3"
  },
  "language_info": {
   "codemirror_mode": {
    "name": "ipython",
    "version": 3
   },
   "file_extension": ".py",
   "mimetype": "text/x-python",
   "name": "python",
   "nbconvert_exporter": "python",
   "pygments_lexer": "ipython3",
   "version": "3.8.12"
  }
 },
 "nbformat": 4,
 "nbformat_minor": 1
}
