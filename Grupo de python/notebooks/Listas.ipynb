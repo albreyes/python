{
  "nbformat": 4,
  "nbformat_minor": 0,
  "metadata": {
    "colab": {
      "name": "Listas.ipynb",
      "provenance": [],
      "collapsed_sections": []
    },
    "kernelspec": {
      "name": "python3",
      "display_name": "Python 3"
    },
    "language_info": {
      "name": "python"
    }
  },
  "cells": [
    {
      "cell_type": "markdown",
      "metadata": {
        "id": "-7Tv1u_jwBUH"
      },
      "source": [
        "**LISTAS (list)**\n",
        "\n",
        "Las listas se utilizan para almacenar varios elementos en una sola variable.\n",
        "\n",
        "Las listas son uno de los 4 tipos de datos integrados en Python que se utilizan para almacenar colecciones de datos, los otros 3 son Tuple, Set y Dictionary, todos con diferentes calidades y usos.\n",
        "\n",
        "Las listas se crean utilizando corchetes:\n"
      ]
    },
    {
      "cell_type": "code",
      "metadata": {
        "id": "Pz4TKK7dwYp3"
      },
      "source": [
        "# Ejemplo de creacion de una lista\n",
        "\n",
        "milista = [\"manzana\", \"platano\", \"fresa\"]\n",
        "\n",
        "print(milista)"
      ],
      "execution_count": null,
      "outputs": []
    },
    {
      "cell_type": "markdown",
      "metadata": {
        "id": "Zu5mBTE2xPpV"
      },
      "source": [
        "**Elementos de la lista**\n",
        "\n",
        "Los elementos de la lista están ordenados, se pueden cambiar y permiten valores duplicados.\n",
        "\n",
        "Los elementos de la lista están indexados, el primer elemento tiene índice [0], el segundo elemento tiene índice [1], etc.\n",
        "\n",
        "**Ordenado**\n",
        "\n",
        "Cuando decimos que las listas están ordenadas, significa que los elementos tienen un orden definido y ese orden no cambiará.\n",
        "\n",
        "Si agrega nuevos elementos a una lista, los nuevos elementos se colocarán al final de la lista.\n",
        "\n",
        "**Nota**: Hay algunos métodos de lista que cambiarán el orden, pero en general: el orden de los elementos no cambiará.\n",
        "\n",
        "**Cambiable**\n",
        "\n",
        "La lista se puede cambiar, lo que significa que podemos cambiar, agregar y eliminar elementos en una lista después de que se haya creado.\n",
        "\n",
        "**Permitir duplicados**\n",
        "\n",
        "Dado que las listas están indexadas, las listas pueden tener elementos con el mismo valor."
      ]
    },
    {
      "cell_type": "code",
      "metadata": {
        "colab": {
          "base_uri": "https://localhost:8080/"
        },
        "id": "WrXcpfBszEB9",
        "outputId": "62db83ef-054c-4d66-f194-0bc04d9f43d5"
      },
      "source": [
        "# Ejemplo de elementos duplicados en una lista\n",
        "\n",
        "milista = [\"manzana\", \"platano\", \"fresa\", \"manzana\", \"fresa\"]\n",
        "\n",
        "print(milista)\n"
      ],
      "execution_count": null,
      "outputs": [
        {
          "output_type": "stream",
          "name": "stdout",
          "text": [
            "['manzana', 'platano', 'fresa', 'manzana', 'fresa']\n"
          ]
        }
      ]
    },
    {
      "cell_type": "markdown",
      "metadata": {
        "id": "mY__JpPAz0Wj"
      },
      "source": [
        "**Longitud de lista**\n",
        "\n",
        "Para determinar cuántos elementos tiene una lista, use la función len().\n"
      ]
    },
    {
      "cell_type": "code",
      "metadata": {
        "id": "WmJqmzKvz-wF"
      },
      "source": [
        "# Ejemplo para imprimir el numero de elementos en una lista\n",
        "\n",
        "milista = [\"manzana\", \"platano\", \"fresa\"]\n",
        "\n",
        "print(len(milista))"
      ],
      "execution_count": null,
      "outputs": []
    },
    {
      "cell_type": "markdown",
      "metadata": {
        "id": "tY9E5nZj0vo2"
      },
      "source": [
        "**Elementos de lista: tipos de datos**\n",
        "\n",
        "Los elementos de la lista pueden ser de cualquier tipo de datos.\n"
      ]
    },
    {
      "cell_type": "code",
      "metadata": {
        "id": "6eAGMVYwuyev"
      },
      "source": [
        "# Ejemplo de tipos de datos en una lista\n",
        "\n",
        "lista1 = [\"manzana\", \"platano\", \"fresa\"]    # tipo de datos str\n",
        "lista2 = [1, 5, 7, 9, 3]                    # tipo de dato int\n",
        "lista3 = [True, False, False]               #tipo de dato logico\n",
        "\n",
        "print(lista1)\n",
        "print(lista2)\n",
        "print(lista3)\n",
        "\n",
        "# Una lista puede contener diferentes tipos de datos:\n",
        "\n",
        "lista1 = [\"abc\", 34, True, 40, \"male\"]\n",
        "\n",
        "print(lista1)\n"
      ],
      "execution_count": null,
      "outputs": []
    },
    {
      "cell_type": "markdown",
      "metadata": {
        "id": "JDvYz1lt3tix"
      },
      "source": [
        "**La funcion type()**\n",
        "\n",
        "Desde la perspectiva de Python, las listas se definen como objetos con el tipo de datos 'list'\n"
      ]
    },
    {
      "cell_type": "code",
      "metadata": {
        "id": "0of4HNWc35wJ"
      },
      "source": [
        "# Aplicando la funcion type()\n",
        "\n",
        "milista = [\"manzans\", \"platano\", \"fresa\"]\n",
        "\n",
        "print(type(milista))\n"
      ],
      "execution_count": null,
      "outputs": []
    },
    {
      "cell_type": "markdown",
      "metadata": {
        "id": "uHFi8laY5JZp"
      },
      "source": [
        "**El constructor list()**\n",
        "\n",
        "También es posible utilizar el constructor list() al crear una nueva lista.\n"
      ]
    },
    {
      "cell_type": "code",
      "metadata": {
        "id": "POwWOo085aJj"
      },
      "source": [
        "# Ejemplo de creacion de una lista utilizando el contructor list()\n",
        "\n",
        "milista = list((\"manzana\", \"platano\", \"fresa\"))  # Hay que utilizar dos parentesis\n",
        "print(milista)"
      ],
      "execution_count": null,
      "outputs": []
    },
    {
      "cell_type": "markdown",
      "metadata": {
        "id": "iRyeuQ_Ae-OK"
      },
      "source": [
        "C**olecciones de Python (Arrays)**\n",
        "\n",
        "Aquí hay cuatro tipos de datos de colecciones en el lenguaje de programación Python:\n",
        "\n",
        "•\t**List** es una colección ordenada y modificable. Permite miembros duplicados.\n",
        "\n",
        "•\t**Tuple** es una colección ordenada e inmutable. Permite miembros duplicados.\n",
        "\n",
        "•\t**Set** es una colección desordenada y no indexada. No hay miembros duplicados.\n",
        "\n",
        "•\t**Dictionary** es una colección ordenada* y modificable. No hay miembros duplicados.\n",
        "\n",
        "* A partir de la versión 3.7 de Python, los diccionarios están ordenados. En Python 3.6 y versiones anteriores, los diccionarios están desordenados.\n",
        "\n",
        "Al elegir un tipo de colección, es útil comprender las propiedades de ese tipo. Elegir el tipo correcto para un conjunto de datos en particular podría significar la retención del significado y podría significar un aumento en la eficiencia o la seguridad.\n",
        "\n",
        "**Python: Acceso a los elementos de la lista** \n",
        "\n",
        "Acceso a los Elementos\n",
        "Los elementos de la lista están indexados y puede acceder a ellos refiriéndose al número de índice.\n"
      ]
    },
    {
      "cell_type": "code",
      "metadata": {
        "id": "nJ_JVw3QgWbW"
      },
      "source": [
        "# Ejemplo: imprimir el segundo elemento de la lista\n",
        "\n",
        "esta_lista = [13, \"Mexico\", True, 12.5, \"manzana\"] # El pimer elemento tiene indice 0\n",
        "print(esta_lista[1]) \n"
      ],
      "execution_count": null,
      "outputs": []
    },
    {
      "cell_type": "markdown",
      "metadata": {
        "id": "8VZtnFnJh2Qo"
      },
      "source": [
        "**Indexación negativa**\n",
        "\n",
        "La indexación negativa significa comenzar desde el final -1 se refiere al último elemento, -2 se refiere al penúltimo elemento, etc.\n"
      ]
    },
    {
      "cell_type": "code",
      "metadata": {
        "id": "ntPQqNZAiFY_"
      },
      "source": [
        "# Ejemplo de la indexacion negativa\n",
        "# Implimir el ultimo elemento de la lista\n",
        "\n",
        "esta_lista = [13, \"Mexico\", True, 12.5, \"manzana\"]\n",
        "print(esta_lista[-1])\n",
        "\n",
        "# print(type(esta_lista))"
      ],
      "execution_count": null,
      "outputs": []
    },
    {
      "cell_type": "markdown",
      "metadata": {
        "id": "NaQ3w35Pimhd"
      },
      "source": [
        "**Rango de índices**\n",
        "\n",
        "Puede especificar un rango de índices especificando dónde comenzar y dónde terminar el rango.\n",
        "\n",
        "Al especificar un rango, el valor de retorno será una nueva lista con los elementos especificados.\n"
      ]
    },
    {
      "cell_type": "code",
      "metadata": {
        "id": "pSOST5sci2Q6"
      },
      "source": [
        "# Ejempo: Imprimir el tercero, cuarto y quinte elemento\n",
        "\n",
        "milista = [\"cafe\", \"negro\", \"amarillo\", \"azul\", \"rojo\", \"morado\"]\n",
        "print(milista[2:5])\n",
        "\n",
        "#  Nota: La búsqueda comenzará en el índice 2 (incluido) y terminará en el índice 5 (no incluido).\n",
        "\n",
        "# Recuerde que el primer elemento tiene índice 0.\n",
        "\n",
        "# Al omitir el valor inicial, el rango comenzará en el primer elemento:\n",
        "\n",
        "\n",
        "\n"
      ],
      "execution_count": null,
      "outputs": []
    },
    {
      "cell_type": "markdown",
      "metadata": {
        "id": "SE3DXynDlCJr"
      },
      "source": [
        "Al omitir el valor inicial, el rango comenzará en el primer elemento:\n",
        "\n",
        "El siguiente ejemplo retornara los elementos desde el indica 0 hasta el indice 4, pero sin incluirlo:"
      ]
    },
    {
      "cell_type": "code",
      "metadata": {
        "id": "IEec-gS1lCwj"
      },
      "source": [
        "milista = [\"cafe\", \"negro\", \"amarillo\", \"azul\", \"rojo\", \"morado\"]\n",
        "print(\"Omitiendo el valor inicial:\", milista[:4])\n",
        "\n",
        "# Al omitir el valor final, el rango continuará hasta el final de la lista:\n",
        "\n",
        "# milista = [\"cafe\", \"negro\", \"amarillo\", \"azul\", \"rojo\", \"morado\"]\n",
        "print(\"Omitiendo el valor final:\", milista[2:])"
      ],
      "execution_count": null,
      "outputs": []
    },
    {
      "cell_type": "markdown",
      "metadata": {
        "id": "K6bd8y0vnt5t"
      },
      "source": [
        "**Rango de índices negativos**\n",
        "\n",
        "Especifique índices negativos si desea iniciar la búsqueda desde el final de la lista:\n"
      ]
    },
    {
      "cell_type": "code",
      "metadata": {
        "id": "fXQcSBFnn5zU",
        "colab": {
          "base_uri": "https://localhost:8080/"
        },
        "outputId": "333660f7-4af4-4f05-de32-99d904d9b69f"
      },
      "source": [
        "# Este ejemplo retornara los elementos desde el indice (-4), amarillo, hasta el elemento de indice (-1), morado, pero sin incluirlo\n",
        "\n",
        "milista = [\"cafe\", \"negro\", \"amarillo\", \"azul\", \"rojo\", \"morado\"]\n",
        "print(milista[-4:-1])\n"
      ],
      "execution_count": null,
      "outputs": [
        {
          "output_type": "stream",
          "name": "stdout",
          "text": [
            "['amarillo', 'azul', 'rojo']\n"
          ]
        }
      ]
    },
    {
      "cell_type": "markdown",
      "metadata": {
        "id": "vID-uS8rvz49"
      },
      "source": [
        "**Comprobar si el elemento existe**\n",
        "\n",
        "Para determinar si un elemento específico está presente en una lista, use la palabra clave in:\n"
      ]
    },
    {
      "cell_type": "code",
      "metadata": {
        "id": "jyaLhQH3wUTE",
        "colab": {
          "base_uri": "https://localhost:8080/"
        },
        "outputId": "9b5604e3-8e47-479d-8c8d-47d3fc9d6ec8"
      },
      "source": [
        "# Combprobar si azul está en la lista\n",
        "\n",
        "milista = [\"cafe\", \"negro\", \"amarillo\", \"azul\", \"rojo\", \"morado\"]\n",
        "if \"azul\" in milista:\n",
        "  print(\"azul si está en la lista\")"
      ],
      "execution_count": null,
      "outputs": [
        {
          "output_type": "stream",
          "name": "stdout",
          "text": [
            "azul si está en la lista\n"
          ]
        }
      ]
    },
    {
      "cell_type": "markdown",
      "metadata": {
        "id": "CswlVdAuy52k"
      },
      "source": [
        "**Python - Cambiar elementos de la lista**\n",
        "\n",
        "Cambiar el valor del elemento:\n",
        "\n",
        "Para cambiar el valor de un elemento específico, consulte el número de índice.\n"
      ]
    },
    {
      "cell_type": "code",
      "metadata": {
        "id": "hRIW6VtfzESz",
        "colab": {
          "base_uri": "https://localhost:8080/"
        },
        "outputId": "2df8386f-2154-4ef7-9e5d-c774e230031a"
      },
      "source": [
        "# Ejemplo: Cambiar el valor del segundo elemento\n",
        "\n",
        "milista = [\"cafe\", \"negro\", \"amarillo\", \"azul\", \"rojo\", \"morado\"]\n",
        "milista[1] = \"verde\"\n",
        "print(milista)\n",
        "\n",
        "print(type(milista))\n"
      ],
      "execution_count": null,
      "outputs": [
        {
          "output_type": "stream",
          "name": "stdout",
          "text": [
            "['cafe', 'verde', 'amarillo', 'azul', 'rojo', 'morado']\n",
            "<class 'list'>\n"
          ]
        }
      ]
    },
    {
      "cell_type": "markdown",
      "metadata": {
        "id": "wrgWSPR2WHbp"
      },
      "source": [
        "**Cambiar un rango de valores del elemento**\n",
        "\n",
        "Para cambiar el valor de los elementos dentro de un rango específico, defina una lista con los nuevos valores y consulte el rango de números de índice donde desea insertar los nuevos valores:\n"
      ]
    },
    {
      "cell_type": "code",
      "metadata": {
        "id": "D0V8uL6NWRMU",
        "colab": {
          "base_uri": "https://localhost:8080/"
        },
        "outputId": "ef6880c3-9397-483a-f84b-197338fd2236"
      },
      "source": [
        "# Ejemplo: cambiar los valores de \"negro\" y \"amarillo\" con los valores de \"gris\" y \"violeta\"\n",
        "\n",
        "milista = [\"cafe\", \"negro\", \"amarillo\", \"azul\", \"rojo\", \"morado\"]\n",
        "milista[1:3] = [\"gris\", \"violeta\"]\n",
        "\n",
        "print(milista)"
      ],
      "execution_count": null,
      "outputs": [
        {
          "output_type": "stream",
          "name": "stdout",
          "text": [
            "['cafe', 'gris', 'violeta', 'azul', 'rojo', 'morado']\n"
          ]
        }
      ]
    },
    {
      "cell_type": "markdown",
      "metadata": {
        "id": "L_lErb5fbUyA"
      },
      "source": [
        "Si inserta más elementos de los que reemplaza, los elementos nuevos se insertarán donde haya especificado y los elementos restantes se moverán en consecuencia:"
      ]
    },
    {
      "cell_type": "code",
      "metadata": {
        "colab": {
          "base_uri": "https://localhost:8080/"
        },
        "id": "VGR93aP-cPmq",
        "outputId": "3b060417-ed6c-4411-b4ed-7aebb6d7dd24"
      },
      "source": [
        "# Cambia el segundo valor reemplazndolo con dos valores nuevos\n",
        "\n",
        "milista = [\"cafe\", \"negro\", \"amarillo\", \"azul\", \"rojo\", \"morado\"]\n",
        "milista[1:2] = [\"verdeazul\", \"rojonaranja\"]\n",
        "\n",
        "# Nota: La longitud de la lista cambiará cuando el número de elementos insertados no coincida con el número de elementos reemplazados.\n",
        "\n",
        "print(milista)"
      ],
      "execution_count": null,
      "outputs": [
        {
          "output_type": "stream",
          "name": "stdout",
          "text": [
            "['cafe', 'verdeazul', 'amarillo', 'azul', 'rojo', 'morado']\n"
          ]
        }
      ]
    },
    {
      "cell_type": "markdown",
      "metadata": {
        "id": "tRFFldcAT3-y"
      },
      "source": [
        "Si inserta menos elementos de los que reemplaza, los elementos nuevos se insertarán donde haya especificado y los elementos restantes se moverán en consecuencia:"
      ]
    },
    {
      "cell_type": "code",
      "metadata": {
        "colab": {
          "base_uri": "https://localhost:8080/"
        },
        "id": "9iRZxJPnT-h-",
        "outputId": "533b24e5-1367-45b9-d02f-c0f21c6967e7"
      },
      "source": [
        "# Cambair el segundo y tercer valro reemplazandolos por un valor\n",
        "\n",
        "milista = [\"cafe\", \"negro\", \"amarillo\", \"azul\", \"rojo\", \"morado\"]\n",
        "milista[1:3] = [\"negroverde\"]\n",
        "\n",
        "print(milista)"
      ],
      "execution_count": null,
      "outputs": [
        {
          "output_type": "stream",
          "name": "stdout",
          "text": [
            "['cafe', 'negroverde', 'azul', 'rojo', 'morado']\n"
          ]
        }
      ]
    },
    {
      "cell_type": "markdown",
      "metadata": {
        "id": "-elu02BnWa27"
      },
      "source": [
        "**Insertar elementos**\n",
        "\n",
        "Para insertar un nuevo elemento de la lista, sin reemplazar ninguno de los valores existentes, podemos usar el método **insert()**.\n",
        "\n",
        "El método **insert()** inserta un elemento en el índice especificado:"
      ]
    },
    {
      "cell_type": "code",
      "metadata": {
        "colab": {
          "base_uri": "https://localhost:8080/"
        },
        "id": "j0obg8ggWw2b",
        "outputId": "ac6cd587-c5e7-4cf8-f63c-c6cad00712b9"
      },
      "source": [
        "# Insertar \"verdeazul\" como tercer elemento\n",
        "\n",
        "milista = [\"cafe\", \"negro\", \"amarillo\", \"azul\", \"rojo\", \"morado\"]\n",
        "milista.insert(2, \"verdeazul\")\n",
        "print(milista)\n",
        "\n",
        "# Nota: Como resultado del ejemplo anterior, la lista ahora contendrá 7 elementos."
      ],
      "execution_count": null,
      "outputs": [
        {
          "output_type": "stream",
          "name": "stdout",
          "text": [
            "['cafe', 'negro', 'verdeazul', 'amarillo', 'azul', 'rojo', 'morado']\n"
          ]
        }
      ]
    },
    {
      "cell_type": "markdown",
      "metadata": {
        "id": "xOH5NlJgX33z"
      },
      "source": [
        "**Python - Agregar elementos de lista**\n",
        "\n",
        "Agregar elementos:\n",
        "\n",
        "Para agregar un elemento al final de la lista, use el método append():"
      ]
    },
    {
      "cell_type": "code",
      "metadata": {
        "colab": {
          "base_uri": "https://localhost:8080/"
        },
        "id": "vktkjMwOYCNV",
        "outputId": "37e7178b-793a-4e52-c415-6be890bf1c41"
      },
      "source": [
        "# Usando el metodo append() para agregar un elemento al final de la lista\n",
        "\n",
        "milista = [\"cafe\", \"negro\", \"amarillo\", \"azul\", \"rojo\", \"morado\"]\n",
        "milista.append(\"rosa\")\n",
        "print(milista)\n"
      ],
      "execution_count": null,
      "outputs": [
        {
          "output_type": "stream",
          "name": "stdout",
          "text": [
            "['cafe', 'negro', 'amarillo', 'azul', 'rojo', 'morado', 'rosa']\n"
          ]
        }
      ]
    },
    {
      "cell_type": "markdown",
      "metadata": {
        "id": "6nJCE4G3ZKkM"
      },
      "source": [
        "**Ampliar lista**\n",
        "\n",
        "Para agregar elementos de otra lista a la lista actual, use el método extend().\n"
      ]
    },
    {
      "cell_type": "code",
      "metadata": {
        "colab": {
          "base_uri": "https://localhost:8080/"
        },
        "id": "WCBE7yidav0H",
        "outputId": "7cba8c37-89de-483e-968d-1a2721a3866c"
      },
      "source": [
        "# Agregar los elementos de la lista de colores a la ista de frutas\n",
        "\n",
        "frutas = [\"mango\", \"fresa\", \"guayaba\"]\n",
        "colores = [\"cafe\", \"verde\", \"azul\"]\n",
        "\n",
        "frutas.extend(colores)\n",
        "print(frutas)\n",
        "\n",
        "# Los elementos se agregarán al final de la lista."
      ],
      "execution_count": null,
      "outputs": [
        {
          "output_type": "stream",
          "name": "stdout",
          "text": [
            "['mango', 'fresa', 'guayaba', 'cafe', 'verde', 'azul']\n"
          ]
        }
      ]
    },
    {
      "cell_type": "markdown",
      "metadata": {
        "id": "gecwLHF3s6W_"
      },
      "source": [
        "**Agregar cualquier iterable**\n",
        "\n",
        "El método extend() no tiene que agregar listas, puede agregar cualquier objeto iterable (tuplas, conjuntos, diccionarios, etc.).\n"
      ]
    },
    {
      "cell_type": "code",
      "metadata": {
        "colab": {
          "base_uri": "https://localhost:8080/"
        },
        "id": "Hmttcp5JtFcX",
        "outputId": "8fea16ba-1fad-47fd-8bf2-1f96b5f50a0d"
      },
      "source": [
        "# Suma los elementos de una tupla a una lista\n",
        "\n",
        "lista1 = [\"mango\", \"fresa\", \"guayaba\"]\n",
        "tupla1 = (\"cafe\", \"verde\", \"azul\")\n",
        "\n",
        "lista1.extend(tupla1)\n",
        "print(lista1)\n"
      ],
      "execution_count": null,
      "outputs": [
        {
          "output_type": "stream",
          "name": "stdout",
          "text": [
            "['mango', 'fresa', 'guayaba', 'cafe', 'verde', 'azul']\n"
          ]
        }
      ]
    },
    {
      "cell_type": "markdown",
      "metadata": {
        "id": "__ze191sujkS"
      },
      "source": [
        "**Python - Eliminar elementos de la lista**\n",
        "\n",
        "Eliminar elemento especificado;\n",
        "\n",
        "El método **remove()** remueve el elemento especificado."
      ]
    },
    {
      "cell_type": "code",
      "metadata": {
        "colab": {
          "base_uri": "https://localhost:8080/"
        },
        "id": "CPA0siMIu95i",
        "outputId": "442c7994-9e4b-41ea-9799-c16d22cd4161"
      },
      "source": [
        "# Elimina el elemto \"guayaba\"\n",
        "\n",
        "ista1 = [\"mango\", \"fresa\", \"guayaba\"]\n",
        "ista1.remove(\"guayaba\")\n",
        "print(ista1)\n"
      ],
      "execution_count": null,
      "outputs": [
        {
          "output_type": "stream",
          "name": "stdout",
          "text": [
            "['mango', 'fresa']\n"
          ]
        }
      ]
    },
    {
      "cell_type": "markdown",
      "metadata": {
        "id": "ACjbiN3Qwujl"
      },
      "source": [
        "**Eliminar índice especificado**\n",
        "\n",
        "El método **pop()** elimina el índice especificado.\n",
        "\n",
        "Si no especifica el índice, el método **pop()** elimina el último elemento.\n"
      ]
    },
    {
      "cell_type": "code",
      "metadata": {
        "colab": {
          "base_uri": "https://localhost:8080/"
        },
        "id": "YhTXC1CH0f4e",
        "outputId": "4dbf43fa-d42a-4ecb-c1b4-721cde916d85"
      },
      "source": [
        "# Eliminar el elemento 3 de la lista\n",
        "\n",
        "milista1 = [\"cafe\", \"negro\", \"amarillo\", \"azul\", \"rojo\", \"morado\"]\n",
        "milista1.pop(2)     # Elimina tercer elemento\n",
        "print(\"milista1 con el tercer elemento eliminado:\", milista1)\n",
        "\n",
        "# Elimina el ultimo elemento\n",
        "\n",
        "lista1 = [\"mango\", \"fresa\", \"guayaba\"]\n",
        "lista1.pop()     # Elimina el ultimo elemento\n",
        "print(\"lista1 con el ultimo elemento eliminado:\", lista1)\n"
      ],
      "execution_count": null,
      "outputs": [
        {
          "output_type": "stream",
          "name": "stdout",
          "text": [
            "milista1 con el tercer elemento eliminado: ['cafe', 'negro', 'azul', 'rojo', 'morado']\n",
            "lista1 con el ultimo elemento eliminado: ['mango', 'fresa']\n"
          ]
        }
      ]
    },
    {
      "cell_type": "markdown",
      "metadata": {
        "id": "lwVLL4Ws29TN"
      },
      "source": [
        "La palabra clave **del** también elimina el índice especificado:"
      ]
    },
    {
      "cell_type": "code",
      "metadata": {
        "colab": {
          "base_uri": "https://localhost:8080/"
        },
        "id": "3Iz6Z1883Qsj",
        "outputId": "9a418a1c-2be5-4ec6-ff10-90e7cf9d4e1f"
      },
      "source": [
        "# Elimina el 4 elemento\n",
        "\n",
        "milista1 = [\"cafe\", \"negro\", \"amarillo\", \"azul\", \"rojo\", \"morado\"]\n",
        "del milista1[3]\n",
        "print(milista1)"
      ],
      "execution_count": null,
      "outputs": [
        {
          "output_type": "stream",
          "name": "stdout",
          "text": [
            "['cafe', 'negro', 'amarillo', 'rojo', 'morado']\n"
          ]
        }
      ]
    },
    {
      "cell_type": "markdown",
      "metadata": {
        "id": "A-AdVGi_4D8i"
      },
      "source": [
        "La palabra clave **del** también puede eliminar la lista por completo."
      ]
    },
    {
      "cell_type": "code",
      "metadata": {
        "id": "aAAiBvgP4Hfc"
      },
      "source": [
        "milista1 = [\"cafe\", \"negro\", \"amarillo\", \"azul\", \"rojo\", \"morado\"]\n",
        "del milista1\n",
        "print(milista1)    # esto provocará un error porque ha eliminado \"milista1\" con éxito."
      ],
      "execution_count": null,
      "outputs": []
    },
    {
      "cell_type": "markdown",
      "metadata": {
        "id": "uh7xghB64yCY"
      },
      "source": [
        "**Limpiar la lista**\n",
        "\n",
        "El método **clear()** vacía la lista.\n",
        "\n",
        "La lista aún permanece, pero no tiene contenido.\n"
      ]
    },
    {
      "cell_type": "code",
      "metadata": {
        "colab": {
          "base_uri": "https://localhost:8080/"
        },
        "id": "NV_pHKJo4_YY",
        "outputId": "44289678-8adf-4da5-b7f8-d6a76ea080de"
      },
      "source": [
        "# Limpia el contenido de la lista\n",
        "\n",
        "milista1 = [\"cafe\", \"negro\", \"amarillo\", \"azul\", \"rojo\", \"morado\"]\n",
        "milista1.clear()\n",
        "print(milista1) "
      ],
      "execution_count": null,
      "outputs": [
        {
          "output_type": "stream",
          "name": "stdout",
          "text": [
            "[]\n"
          ]
        }
      ]
    },
    {
      "cell_type": "markdown",
      "metadata": {
        "id": "ByHD7Gvb6u7Z"
      },
      "source": [
        "--------------------------------------\n",
        "**Python - Listas en bucles**\n",
        "--------------------------------------\n",
        "\n",
        "**Recorrer una lista**\n",
        "Puede recorrer los elementos de la lista utilizando un bucle **for**:\n"
      ]
    },
    {
      "cell_type": "code",
      "metadata": {
        "id": "9rk7OQFp7Fj5"
      },
      "source": [
        "# Imprimir todos los elementos de la lista uno por uno.\n",
        "\n",
        "milista1 = [\"cafe\", \"negro\", \"amarillo\", \"azul\", \"rojo\", \"morado\"]\n",
        "for x in milista1:\n",
        "  print(x)\n"
      ],
      "execution_count": null,
      "outputs": []
    },
    {
      "cell_type": "markdown",
      "metadata": {
        "id": "TO2sxnR47keI"
      },
      "source": [
        "**Recorrer los números de índice**\n",
        "\n",
        "También puede recorrer los elementos de la lista consultando su número de índice.\n",
        "\n",
        "Utilice las funciones **range(**) y **len()** para crear un iterable adecuado.\n"
      ]
    },
    {
      "cell_type": "code",
      "metadata": {
        "id": "m9cmGtC28bzA"
      },
      "source": [
        "# Imprima todos los elementos consultando su número de índice:\n",
        "\n",
        "milista1 = [\"cafe\", \"negro\", \"amarillo\", \"azul\", \"rojo\", \"morado\"]\n",
        "for i in range(len(milista1)):\n",
        "  print(milista1[i])\n",
        "\n",
        "# El iterable creado en el ejemplo anterior es [0, 1, 2, 3, 4, 5].\n"
      ],
      "execution_count": null,
      "outputs": []
    },
    {
      "cell_type": "markdown",
      "metadata": {
        "id": "WZZbvSLt-AKo"
      },
      "source": [
        "**Usar un bucle while**\n",
        "\n",
        "Puede recorrer los elementos de la lista utilizando un ciclo **while**.\n",
        "\n",
        "Use la función **len()** para determinar la longitud de la lista, luego comience en 0 y recorra los elementos de la lista consultando sus índices.\n",
        "\n",
        "Recuerde aumentar el índice en 1 después de cada iteración.\n"
      ]
    },
    {
      "cell_type": "code",
      "metadata": {
        "id": "3bwDsPol-Mh3"
      },
      "source": [
        "# Imprima todos los elementos, usando un bucle while para revisar todos los números de índice\n",
        "\n",
        "milista1 = [\"cafe\", \"negro\", \"amarillo\", \"azul\", \"rojo\", \"morado\"]\n",
        "i = 0\n",
        "while i < len(milista1):\n",
        "  print(milista1[i])\n",
        "  i +=1\n"
      ],
      "execution_count": null,
      "outputs": []
    },
    {
      "cell_type": "markdown",
      "metadata": {
        "id": "CoubCDG__oJE"
      },
      "source": [
        "**Bucle mediante la comprensión de listas**\n",
        "\n",
        "List Comprehension ofrece la sintaxis más corta para recorrer listas:\n"
      ]
    },
    {
      "cell_type": "code",
      "metadata": {
        "id": "EntSxTHlAFj2"
      },
      "source": [
        "# Un camino corto para el bucle que imprimirá todos los elementos de una lista:\n",
        "\n",
        "milista1 = [\"cafe\", \"negro\", \"amarillo\", \"azul\", \"rojo\", \"morado\"]\n",
        "[print(x) for x in milista1]"
      ],
      "execution_count": null,
      "outputs": []
    },
    {
      "cell_type": "markdown",
      "metadata": {
        "id": "tL3WeUaFC74I"
      },
      "source": [
        "----------------------------------------------------\n",
        "Python - Comprensión de listas (List Comprehension)\n",
        "----------------------------------------------------\n",
        "\n",
        "**Comprensión de listas**\n",
        "\n",
        "La comprensión de listas ofrece una sintaxis más corta cuando desea crear una nueva lista basada en los valores de una lista existente.\n",
        "\n",
        "**La sintaxis**\n",
        "\n",
        "newlist = [expression for item in iterable if condition == True]\n",
        "\n",
        "El valor de retorno es una nueva lista, dejando la lista anterior sin cambios.\n",
        "\n",
        "**Condición**\n",
        "\n",
        "La condición es como un filtro que solo acepta los elementos que se valoran como True.\n",
        "\n",
        "Ejemplo:\n",
        "\n",
        "Basándose en una lista de frutas, desea una nueva lista que contenga solo las frutas con la letra \"b\" en el nombre.\n",
        "\n",
        "Sin la comprensión de la lista, tendrá que escribir una declaración **for** con una prueba condicional dentro:\n"
      ]
    },
    {
      "cell_type": "code",
      "metadata": {
        "id": "z9HJJ9K5DMVe"
      },
      "source": [
        "# Ejemplo sin compresion de listas\n",
        "\n",
        "frutas = [\"mango\", \"fresa\", \"guayaba\"]\n",
        "nueva_lista = []\n",
        "for x in frutas:\n",
        "  if \"b\" in x:\n",
        "    nueva_lista.append(x)\n",
        "    \n",
        "print(nueva_lista)"
      ],
      "execution_count": null,
      "outputs": []
    },
    {
      "cell_type": "markdown",
      "metadata": {
        "id": "Ov1gfcsrHiRj"
      },
      "source": [
        "Con la comprensión de listas, puede hacer todo eso con solo una línea de código:"
      ]
    },
    {
      "cell_type": "code",
      "metadata": {
        "id": "wn34aWlDHkFS"
      },
      "source": [
        "# Ejemplo con compresion de listas\n",
        "\n",
        "frutas = [\"mango\", \"fresa\", \"guayaba\"]\n",
        "nueva_lista = [x for x in frutas if \"b\" in x]\n",
        "\n",
        "print(nueva_lista)\n"
      ],
      "execution_count": null,
      "outputs": []
    },
    {
      "cell_type": "code",
      "metadata": {
        "colab": {
          "base_uri": "https://localhost:8080/"
        },
        "id": "_kPjFlW3LhCL",
        "outputId": "edbdf71d-8383-49eb-9af9-c960f57b3851"
      },
      "source": [
        "# Otro Ejemplo\n",
        "\n",
        "# Solo acepta las fruas que no son guayaba\n",
        "\n",
        "nueva_lista = [x for x in frutas if x!=\"guayaba\"]\n",
        "print(nueva_lista)"
      ],
      "execution_count": null,
      "outputs": [
        {
          "output_type": "stream",
          "name": "stdout",
          "text": [
            "['mango', 'fresa']\n"
          ]
        }
      ]
    },
    {
      "cell_type": "markdown",
      "metadata": {
        "id": "l31YqWIzOxTM"
      },
      "source": [
        "En el ejemplo anterior, la condición if x!= \"guayaba\" devolverá True para todos los elementos que no sean \"guayaba\", haciendo que la nueva lista contenga todas las frutas excepto \"guayaba\".\n",
        "\n",
        "La condición es opcional y se puede omitir, como se oberva en el siguiente ejemplo:"
      ]
    },
    {
      "cell_type": "code",
      "metadata": {
        "id": "ajnyA_PnPQMW"
      },
      "source": [
        "# Ejemplo sin el elemento de condicion if\n",
        "\n",
        "frutas = [\"mango\", \"fresa\", \"guayaba\"]\n",
        "nueva_lista = [x for x in frutas]\n",
        "print(nueva_lista)"
      ],
      "execution_count": null,
      "outputs": []
    },
    {
      "cell_type": "markdown",
      "metadata": {
        "id": "N0akXTlPQabR"
      },
      "source": [
        "**Iterable**\n",
        "\n",
        "El iterable puede ser cualquier objeto iterable, como una lista, tupla, conjunto, etc.\n"
      ]
    },
    {
      "cell_type": "code",
      "metadata": {
        "id": "bEt5vXmFQngQ"
      },
      "source": [
        "# Puede usar la función range() para crear un iterable:\n",
        "\n",
        "nueva_lista = [x for x in range(10)]\n",
        "print(nueva_lista)"
      ],
      "execution_count": null,
      "outputs": []
    },
    {
      "cell_type": "markdown",
      "metadata": {
        "id": "iN-LPyZzReZW"
      },
      "source": [
        "Mismo ejemplo, pero con una condición:"
      ]
    },
    {
      "cell_type": "code",
      "metadata": {
        "id": "vQENf665Rgj2"
      },
      "source": [
        "# Ejemplo anterior con la condicion if\n",
        "\n",
        "nueva_lista = [x for x in range(10) if x >= 5]\n",
        "print(nueva_lista)"
      ],
      "execution_count": null,
      "outputs": []
    },
    {
      "cell_type": "markdown",
      "metadata": {
        "id": "t0m-RvSLTSao"
      },
      "source": [
        "**Expresión**\n",
        "\n",
        "La expresión es el elemento actual en la iteración, pero también es el resultado, que puede manipular antes de que termine como un elemento de la lista en la nueva lista:\n"
      ]
    },
    {
      "cell_type": "code",
      "metadata": {
        "id": "LKDPBFeaUBMw"
      },
      "source": [
        "# Establezca los valores de la nueva lista en mayúsculas:\n",
        "\n",
        "frutas = [\"mango\", \"fresa\", \"guayaba\"]\n",
        "nueva_lista = [x.upper() for x in frutas]\n",
        "print(nueva_lista)"
      ],
      "execution_count": null,
      "outputs": []
    },
    {
      "cell_type": "markdown",
      "metadata": {
        "id": "5s9yXRvDUv0v"
      },
      "source": [
        "Puede configurar el resultado como desee:"
      ]
    },
    {
      "cell_type": "code",
      "metadata": {
        "id": "urh60W2DU4y_"
      },
      "source": [
        "# Establezca todos los valores de la nueva lista en 'hola':\n",
        "\n",
        "frutas = [\"mango\", \"fresa\", \"guayaba\"]\n",
        "nueva_lista = [\"hola\" for x in frutas]\n",
        "print(nueva_lista)"
      ],
      "execution_count": null,
      "outputs": []
    },
    {
      "cell_type": "markdown",
      "metadata": {
        "id": "a4V7bA1qWHmn"
      },
      "source": [
        "La expresión también puede contener condiciones, no como un filtro, sino como una forma de manipular el resultado:"
      ]
    },
    {
      "cell_type": "code",
      "metadata": {
        "id": "jvBvM03cWP1W"
      },
      "source": [
        "# Retorna \"naranja\" en lugar de \"guayaba\"\n",
        "\n",
        "frutas = [\"mango\", \"fresa\", \"guayaba\"]\n",
        "nueva_lista = [x if x!= \"guayaba\" else \"naranja\" for x in frutas]\n",
        "print(nueva_lista)\n",
        "\n",
        "# La expresión del ejemplo anterior dice:\n",
        "\n",
        "# \"Devuelve el elemento si no es guayaba, si es guayaba devuelve naranja\".\n"
      ],
      "execution_count": null,
      "outputs": []
    },
    {
      "cell_type": "markdown",
      "metadata": {
        "id": "mhHzjh6FY4QF"
      },
      "source": [
        "--------------------------------------\n",
        "Python: ordenar listas\n",
        "--------------------------------------\n",
        "\n",
        "**Ordenar lista alfanuméricamente**\n",
        "\n",
        "Los objetos de lista tienen un método **sort()** que ordenará la lista alfanuméricamente, de forma ascendente, por defecto:\n"
      ]
    },
    {
      "cell_type": "code",
      "metadata": {
        "id": "POt9ZPlhZMGw"
      },
      "source": [
        "# Ordene la lista alfabéticamente:\n",
        "\n",
        "milista1 = [\"cafe\", \"negro\", \"amarillo\", \"azul\", \"rojo\", \"morado\"]\n",
        "milista1.sort()\n",
        "print(milista1)"
      ],
      "execution_count": null,
      "outputs": []
    },
    {
      "cell_type": "code",
      "metadata": {
        "id": "lWBFvc3JCLaS"
      },
      "source": [
        "# Ordene la lista numericament\n",
        "\n",
        "listnum = [100, 13, 40, 20, 55, 90]\n",
        "listnum.sort()\n",
        "print(listnum)"
      ],
      "execution_count": null,
      "outputs": []
    },
    {
      "cell_type": "markdown",
      "metadata": {
        "id": "OaoRAXmWCsPg"
      },
      "source": [
        "**Orden descendiente**\n",
        "\n",
        "Para ordenar de forma descendente, use el argumento de palabra clave **reverse = True**:\n"
      ]
    },
    {
      "cell_type": "code",
      "metadata": {
        "colab": {
          "base_uri": "https://localhost:8080/"
        },
        "id": "VAReTevvDvna",
        "outputId": "1567684c-324f-4c12-8c65-00994ef78631"
      },
      "source": [
        "# Ordene la lista alfabéticamente en orden descendente:\n",
        "\n",
        "milista1 = [\"cafe\", \"negro\", \"amarillo\", \"azul\", \"rojo\", \"morado\"]\n",
        "milista1.sort(reverse = True)\n",
        "print(milista1)"
      ],
      "execution_count": null,
      "outputs": [
        {
          "output_type": "stream",
          "name": "stdout",
          "text": [
            "['rojo', 'negro', 'morado', 'cafe', 'azul', 'amarillo']\n"
          ]
        }
      ]
    },
    {
      "cell_type": "code",
      "metadata": {
        "id": "0mUnPOBSEq6Z"
      },
      "source": [
        "# Ordene la lista numericamente en forma descendente:\n",
        "\n",
        "listnum = [100, 13, 40, 20, 55, 90]\n",
        "listnum.sort(reverse = True)\n",
        "print(listnum)"
      ],
      "execution_count": null,
      "outputs": []
    },
    {
      "cell_type": "markdown",
      "metadata": {
        "id": "QpoYUbQ3GhVU"
      },
      "source": [
        "**Personalizar la función de ordenar**\n",
        "\n",
        "También puede personalizar su propia función utilizando el argumento de palabra clave **key = function**.\n",
        "\n",
        "La función devolverá un número que se utilizará para ordenar la lista (el número más bajo primero):\n"
      ]
    },
    {
      "cell_type": "code",
      "metadata": {
        "id": "57t2mPRnGpFM"
      },
      "source": [
        "# Ordene la lista según lo cerca que esté el número de 50:\n",
        "\n",
        "def mifuncion(n):\n",
        "  return abs(n - 50)\n",
        "\n",
        "listnum = [100, 13, 40, 20, 55, 90]\n",
        "listnum.sort(key = mifuncion)\n",
        "print(listnum)"
      ],
      "execution_count": null,
      "outputs": []
    },
    {
      "cell_type": "markdown",
      "metadata": {
        "id": "1-_j7mZi6RZP"
      },
      "source": [
        "**Sort() distingue entre mayúsculas y minúsculas**\n",
        "\n",
        "De forma predeterminada, el método **sort()** distingue entre mayúsculas y minúsculas, lo que hace que todas las letras mayúsculas se ordenen antes que las minúsculas:\n"
      ]
    },
    {
      "cell_type": "code",
      "metadata": {
        "colab": {
          "base_uri": "https://localhost:8080/"
        },
        "id": "z8m_SbzR9KTi",
        "outputId": "11d38984-d8ff-40d2-a484-ea8a8acaa766"
      },
      "source": [
        "# Orden sensible a mayúsculas y minúsculas:\n",
        "\n",
        "Mi_lista1 = [\"cafe\", \"Negro\", \"amarillo\", \"Azul\", \"rojo\", \"Morado\"]\n",
        "Mi_lista1.sort()\n",
        "print(Mi_lista1)"
      ],
      "execution_count": null,
      "outputs": [
        {
          "output_type": "stream",
          "name": "stdout",
          "text": [
            "['Azul', 'Morado', 'Negro', 'amarillo', 'cafe', 'rojo']\n"
          ]
        }
      ]
    }
  ]
}